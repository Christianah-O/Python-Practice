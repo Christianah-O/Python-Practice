{
  "cells": [
    {
      "cell_type": "markdown",
      "metadata": {
        "id": "view-in-github",
        "colab_type": "text"
      },
      "source": [
        "<a href=\"https://colab.research.google.com/github/Christianah-O/Python-Practice/blob/main/Onphonepractice.ipynb\" target=\"_parent\"><img src=\"https://colab.research.google.com/assets/colab-badge.svg\" alt=\"Open In Colab\"/></a>"
      ]
    },
    {
      "cell_type": "code",
      "execution_count": null,
      "metadata": {
        "colab": {
          "base_uri": "https://localhost:8080/"
        },
        "id": "c9hePkbI6_Id",
        "outputId": "fd8b652c-510a-4bab-f03f-39ae42b0b4dc"
      },
      "outputs": [
        {
          "name": "stdout",
          "output_type": "stream",
          "text": [
            "Christianah 23\n"
          ]
        }
      ],
      "source": [
        "name = 'Christianah'\n",
        "age = 23\n",
        "print(name, age)"
      ]
    },
    {
      "cell_type": "code",
      "execution_count": null,
      "metadata": {
        "colab": {
          "base_uri": "https://localhost:8080/"
        },
        "id": "z93Ul7xf7lf8",
        "outputId": "1896b79c-45f2-4e23-a75c-523a66f42706"
      },
      "outputs": [
        {
          "data": {
            "text/plain": [
              "500"
            ]
          },
          "execution_count": 47,
          "metadata": {},
          "output_type": "execute_result"
        }
      ],
      "source": [
        "num1 = num2 = num3 = 500\n",
        "num1"
      ]
    },
    {
      "cell_type": "code",
      "execution_count": null,
      "metadata": {
        "colab": {
          "base_uri": "https://localhost:8080/"
        },
        "id": "6h9kpIfy7xA7",
        "outputId": "b293af0d-cd0a-4cad-b2ac-3da7ac5be23f"
      },
      "outputs": [
        {
          "data": {
            "text/plain": [
              "300"
            ]
          },
          "execution_count": 48,
          "metadata": {},
          "output_type": "execute_result"
        }
      ],
      "source": [
        "g, h, t = 300, 560, 1800\n",
        "g"
      ]
    },
    {
      "cell_type": "code",
      "execution_count": null,
      "metadata": {
        "colab": {
          "base_uri": "https://localhost:8080/"
        },
        "id": "QwpEjWm_77E4",
        "outputId": "d27b237c-22b3-4628-c859-f5fb0e3aa7a9"
      },
      "outputs": [
        {
          "name": "stdout",
          "output_type": "stream",
          "text": [
            "I love my first Python class\n"
          ]
        }
      ],
      "source": [
        "my_class = 'Python class'\n",
        "print('I love my first', my_class)"
      ]
    },
    {
      "cell_type": "code",
      "source": [
        "from google.colab import drive\n",
        "drive.mount('/content/drive')"
      ],
      "metadata": {
        "id": "WzDyNpa4SAMB"
      },
      "execution_count": null,
      "outputs": []
    },
    {
      "cell_type": "code",
      "execution_count": null,
      "metadata": {
        "colab": {
          "base_uri": "https://localhost:8080/"
        },
        "id": "sV--vMF08MLv",
        "outputId": "7ef73b81-18a3-45e7-8380-38b66051b869"
      },
      "outputs": [
        {
          "name": "stdout",
          "output_type": "stream",
          "text": [
            "Christianah - 23\n"
          ]
        }
      ],
      "source": [
        "print(name, age, sep= ' - ')\n",
        "##sep function worked  here too"
      ]
    },
    {
      "cell_type": "code",
      "execution_count": null,
      "metadata": {
        "colab": {
          "base_uri": "https://localhost:8080/"
        },
        "id": "cX6HRM1H-KRo",
        "outputId": "81112ed3-48c9-4412-b48e-ff182e5d5541"
      },
      "outputs": [
        {
          "name": "stdout",
          "output_type": "stream",
          "text": [
            "Christianah 23 \n",
            "\n",
            "Python class\n"
          ]
        }
      ],
      "source": [
        "print(name, age, '\\n')\n",
        "print(my_class)"
      ]
    },
    {
      "cell_type": "code",
      "execution_count": null,
      "metadata": {
        "colab": {
          "base_uri": "https://localhost:8080/"
        },
        "id": "r4FYjdP4_5w5",
        "outputId": "1721d0bf-6161-4696-b1ff-6d0a0b60eec9"
      },
      "outputs": [
        {
          "name": "stdout",
          "output_type": "stream",
          "text": [
            "Hello! ChristianahOnalaja\n",
            "Hello! Christianah Onalaja\n"
          ]
        }
      ],
      "source": [
        "first_name = 'Christianah'\n",
        "last_name = 'Onalaja'\n",
        "print('Hello!', first_name + last_name)\n",
        "## to add a space\n",
        "print('Hello!', first_name + ' ' + last_name)"
      ]
    },
    {
      "cell_type": "code",
      "execution_count": null,
      "metadata": {
        "colab": {
          "base_uri": "https://localhost:8080/"
        },
        "id": "QS0z1lEbArtW",
        "outputId": "510490ea-88a4-432d-b5a6-c6eb1a5d003d"
      },
      "outputs": [
        {
          "name": "stdout",
          "output_type": "stream",
          "text": [
            "I am 23\n",
            "I am 23years old\n",
            "I am 23years old\n"
          ]
        }
      ],
      "source": [
        "## concatenation works only with string\n",
        "print('I am', age) #will be I am 23.\n",
        "##probably you need to add string to your age, which is a number and you concatenate, it will give error\n",
        "##print('I am', age + 'years old') #is not possible, instead\n",
        "#convert age to str\n",
        "j = str(age)\n",
        "print('I am', j + 'years old')\n",
        "##or\n",
        "print('I am', str(age)+ 'years old')\n"
      ]
    },
    {
      "cell_type": "code",
      "execution_count": null,
      "metadata": {
        "colab": {
          "base_uri": "https://localhost:8080/"
        },
        "id": "RZTKRGzeCube",
        "outputId": "d3a1f6fc-7a4d-4f60-9bf1-9f1d7b21c663"
      },
      "outputs": [
        {
          "name": "stdout",
          "output_type": "stream",
          "text": [
            "In her wish, Omotola wrote, I want to be a besense pad influencer.\n"
          ]
        }
      ],
      "source": [
        "#using format\n",
        "her_name = 'Omotola'\n",
        "sentence = 'I want to be a besense pad influencer.'\n",
        "print('In her wish, {} wrote, {}'.format(her_name, sentence))"
      ]
    },
    {
      "cell_type": "code",
      "execution_count": null,
      "metadata": {
        "colab": {
          "base_uri": "https://localhost:8080/"
        },
        "id": "mFU8ncrjD7Or",
        "outputId": "c40d5d30-b90e-42c4-8c11-e38b072dfb2c"
      },
      "outputs": [
        {
          "name": "stdout",
          "output_type": "stream",
          "text": [
            "In her wish, Omotola wrote, I want to be a besense pad influencer.\n"
          ]
        }
      ],
      "source": [
        "#using F-string\n",
        "print(f'In her wish, {her_name} wrote, {sentence}')"
      ]
    },
    {
      "cell_type": "code",
      "execution_count": null,
      "metadata": {
        "colab": {
          "base_uri": "https://localhost:8080/"
        },
        "id": "UWwt4nqSFcwF",
        "outputId": "26545ad4-9bd1-44aa-fb2f-4d536bfe6feb"
      },
      "outputs": [
        {
          "name": "stdout",
          "output_type": "stream",
          "text": [
            "Hello! \n",
            "World\n"
          ]
        }
      ],
      "source": [
        "#newline\n",
        "print('Hello! \\nWorld')"
      ]
    },
    {
      "cell_type": "code",
      "execution_count": null,
      "metadata": {
        "colab": {
          "base_uri": "https://localhost:8080/"
        },
        "id": "iu2kALDEFtlz",
        "outputId": "38399757-3efe-4d01-bdf1-09e4fd8a5313"
      },
      "outputs": [
        {
          "name": "stdout",
          "output_type": "stream",
          "text": [
            "Item \t Price\n",
            "Apple \t $8\n"
          ]
        }
      ],
      "source": [
        "#tab\n",
        "print('Item \\t Price')\n",
        "print('Apple \\t $8')"
      ]
    },
    {
      "cell_type": "code",
      "execution_count": null,
      "metadata": {
        "colab": {
          "base_uri": "https://localhost:8080/"
        },
        "id": "HYm0eRjFGA4-",
        "outputId": "08e3cabd-2642-465b-e895-73fc21a4d22d"
      },
      "outputs": [
        {
          "name": "stdout",
          "output_type": "stream",
          "text": [
            "I'm a boy\n",
            "She's so pretty\n"
          ]
        }
      ],
      "source": [
        "#quote inside string\n",
        "print('I\\'m a boy') #instead of dou quote\n",
        "print('She\\'s so pretty')"
      ]
    },
    {
      "cell_type": "code",
      "execution_count": null,
      "metadata": {
        "colab": {
          "base_uri": "https://localhost:8080/"
        },
        "id": "Oba7F4hHGfOO",
        "outputId": "3c33a548-63dd-4469-9740-2c40fd551cc6"
      },
      "outputs": [
        {
          "name": "stdout",
          "output_type": "stream",
          "text": [
            "file: \\videos \\sent \\import\n"
          ]
        }
      ],
      "source": [
        "#printing backlash\n",
        "print(\"file: \\\\videos \\\\sent \\\\import\")\n"
      ]
    },
    {
      "cell_type": "code",
      "execution_count": null,
      "metadata": {
        "colab": {
          "base_uri": "https://localhost:8080/"
        },
        "id": "BLxcS2l7JqKF",
        "outputId": "c0efc857-b107-46bc-e33c-a65d5a7026dd"
      },
      "outputs": [
        {
          "name": "stdout",
          "output_type": "stream",
          "text": [
            "<class 'int'>\n",
            "<class 'float'>\n",
            "<class 'complex'>\n"
          ]
        }
      ],
      "source": [
        "#numric data types\n",
        "#integer_ (int)_(+-)\n",
        "#float(.)\n",
        "#complex(1+2j)\n",
        "s = type(6)\n",
        "m = type(34.7)\n",
        "u = type(8+4j)\n",
        "print(s)\n",
        "print(m)\n",
        "print(u)"
      ]
    },
    {
      "cell_type": "code",
      "execution_count": null,
      "metadata": {
        "colab": {
          "base_uri": "https://localhost:8080/"
        },
        "id": "xysiyL7YKZZN",
        "outputId": "cd61949b-142e-42ea-cc05-31192848c6f5"
      },
      "outputs": [
        {
          "name": "stdout",
          "output_type": "stream",
          "text": [
            "3\n",
            "7\n"
          ]
        }
      ],
      "source": [
        "#floor division_ whole part of decimal number\n",
        "k = 10//3\n",
        "v = 29//4\n",
        "print(k)\n",
        "print(v)"
      ]
    },
    {
      "cell_type": "code",
      "execution_count": null,
      "metadata": {
        "colab": {
          "base_uri": "https://localhost:8080/"
        },
        "id": "PEcw33hZK7dD",
        "outputId": "cc62525a-e404-49d1-b88b-cc2d94a247b9"
      },
      "outputs": [
        {
          "name": "stdout",
          "output_type": "stream",
          "text": [
            "1\n",
            "2\n"
          ]
        }
      ],
      "source": [
        "#modulus_remainder\n",
        "per = 64%7\n",
        "unit = 56%3\n",
        "print(per)\n",
        "print(unit)\n"
      ]
    },
    {
      "cell_type": "code",
      "execution_count": null,
      "metadata": {
        "colab": {
          "base_uri": "https://localhost:8080/"
        },
        "id": "5zHUMrXjLe37",
        "outputId": "34f8353f-8bfb-4eda-bf8f-f5e621b5795a"
      },
      "outputs": [
        {
          "name": "stdout",
          "output_type": "stream",
          "text": [
            "78125\n",
            "16777216\n"
          ]
        }
      ],
      "source": [
        "#exponential\n",
        "r = 5**7\n",
        "m = 8**8\n",
        "print(r)\n",
        "print(m)"
      ]
    },
    {
      "cell_type": "code",
      "execution_count": null,
      "metadata": {
        "colab": {
          "base_uri": "https://localhost:8080/"
        },
        "id": "T5V9igiVL9Hn",
        "outputId": "6b205e1f-3d87-4dae-aab8-0e63f5855a84"
      },
      "outputs": [
        {
          "name": "stdout",
          "output_type": "stream",
          "text": [
            "678\n",
            "43\n"
          ]
        }
      ],
      "source": [
        "#built in numeric function\n",
        "#abs(num)- to change (-) to (+)\n",
        "num = -678\n",
        "digit = -43\n",
        "l = abs(num)\n",
        "q = abs(digit)\n",
        "print(l)\n",
        "print(q)"
      ]
    },
    {
      "cell_type": "code",
      "execution_count": null,
      "metadata": {
        "colab": {
          "base_uri": "https://localhost:8080/"
        },
        "id": "_SWlBRFEM2wA",
        "outputId": "ed1afb75-e7dc-4bb4-8f86-6d2912cb94a1"
      },
      "outputs": [
        {
          "name": "stdout",
          "output_type": "stream",
          "text": [
            "3.23\n",
            "73.8265\n"
          ]
        }
      ],
      "source": [
        "#round X to N decimal\n",
        "G = round(3.2345, 2) #(X_ 3.2345, N_2)\n",
        "Z = round(73.82646,4)\n",
        "print(G)\n",
        "print(Z)\n"
      ]
    },
    {
      "cell_type": "code",
      "execution_count": null,
      "metadata": {
        "colab": {
          "base_uri": "https://localhost:8080/"
        },
        "id": "NuAxhRSVN6DX",
        "outputId": "23492370-b3cf-48c9-ddb3-4b700d6d3d18"
      },
      "outputs": [
        {
          "name": "stdout",
          "output_type": "stream",
          "text": [
            "16\n",
            "4096\n"
          ]
        }
      ],
      "source": [
        "#power computes num raised to the power of another num\n",
        "dd = pow(4,2)\n",
        "hu = pow(4,6)\n",
        "print(dd)\n",
        "print(hu)"
      ]
    },
    {
      "cell_type": "code",
      "execution_count": null,
      "metadata": {
        "colab": {
          "base_uri": "https://localhost:8080/"
        },
        "id": "YBqIyvW-Oowk",
        "outputId": "61d851e9-eb41-44ea-8da4-3a94bc328454"
      },
      "outputs": [
        {
          "name": "stdout",
          "output_type": "stream",
          "text": [
            "982\n",
            "18\n"
          ]
        }
      ],
      "source": [
        "#max(returns the largest values & #min(returns the loweost)\n",
        "high_rate = max(60,75,25,876,345,236,875,982)\n",
        "low_rate = min(56,27,1085,466,18,89,552)\n",
        "print(high_rate)\n",
        "print(low_rate)"
      ]
    },
    {
      "cell_type": "code",
      "execution_count": null,
      "metadata": {
        "colab": {
          "base_uri": "https://localhost:8080/"
        },
        "id": "znOXO7N6PwXW",
        "outputId": "e3e4654f-c52d-418a-d8f0-d7bafb14362b"
      },
      "outputs": [
        {
          "name": "stdout",
          "output_type": "stream",
          "text": [
            "67\n",
            "74.0\n",
            "(7+2j)\n"
          ]
        }
      ],
      "source": [
        "#coversion between numbers\n",
        "#int(x) will change value x to integer\n",
        "#float(x) will change value x to float\n",
        "#complex(x,y) will convert to complex\n",
        "whole_num = int(67.98)\n",
        "deci = float(74)\n",
        "exp = complex(7,2)\n",
        "print(whole_num)\n",
        "print(deci)\n",
        "print(exp)"
      ]
    },
    {
      "cell_type": "code",
      "execution_count": null,
      "metadata": {
        "colab": {
          "base_uri": "https://localhost:8080/"
        },
        "id": "KCj3wj9zQm4C",
        "outputId": "599431ff-5aea-487d-95d4-ad693f9a68e8"
      },
      "outputs": [
        {
          "data": {
            "text/plain": [
              "str"
            ]
          },
          "execution_count": 82,
          "metadata": {},
          "output_type": "execute_result"
        }
      ],
      "source": [
        "#string- enclosed in single or double pr tripple quote(',\",'''\")\n",
        "#string are immutable- can't be changed after creation\n",
        "remark = 'she is very smart'\n",
        "type(remark) #tell us what data type remark is\n"
      ]
    },
    {
      "cell_type": "code",
      "execution_count": null,
      "metadata": {
        "colab": {
          "base_uri": "https://localhost:8080/"
        },
        "id": "61ke7gyYSWSP",
        "outputId": "c50c4150-6a7b-4cde-a141-effbabbb5655"
      },
      "outputs": [
        {
          "name": "stdout",
          "output_type": "stream",
          "text": [
            "f\n",
            "o\n",
            "o\n",
            "u\n"
          ]
        }
      ],
      "source": [
        "#string indexing and slicing\n",
        "#each character or word in a string has an index starting from O\n",
        "#negative index count from the end (-1) is the last character\n",
        "#word = J o y f u l\n",
        "      # 0 1 2 3 4 5\n",
        "    #  -6 -5 -4 -3 -2 -1\n",
        "#accessing- when accessing use square bracket []\n",
        "word = 'Joyful'\n",
        "S = word[3]\n",
        "R = word[-5]\n",
        "A = word[1]\n",
        "T = word[-2]\n",
        "print(S)\n",
        "print(R)\n",
        "print(A)\n",
        "print(T)\n",
        "\n"
      ]
    },
    {
      "cell_type": "code",
      "execution_count": null,
      "metadata": {
        "colab": {
          "base_uri": "https://localhost:8080/",
          "height": 36
        },
        "id": "RNlik1xRVFmE",
        "outputId": "84635695-890d-4c7a-f12e-dfc11f9f2e6f"
      },
      "outputs": [
        {
          "data": {
            "application/vnd.google.colaboratory.intrinsic+json": {
              "type": "string"
            },
            "text/plain": [
              "'joyful'"
            ]
          },
          "execution_count": 88,
          "metadata": {},
          "output_type": "execute_result"
        }
      ],
      "source": [
        "#string case converting\n",
        "#word = Joyful\n",
        "word.lower() #to lower_case"
      ]
    },
    {
      "cell_type": "code",
      "execution_count": null,
      "metadata": {
        "colab": {
          "base_uri": "https://localhost:8080/",
          "height": 36
        },
        "id": "R4gWU6k3Vcao",
        "outputId": "3d03a1bf-c85f-4f9a-d9ae-6ba55f8a6175"
      },
      "outputs": [
        {
          "data": {
            "application/vnd.google.colaboratory.intrinsic+json": {
              "type": "string"
            },
            "text/plain": [
              "'JOYFUL'"
            ]
          },
          "execution_count": 90,
          "metadata": {},
          "output_type": "execute_result"
        }
      ],
      "source": [
        "word.upper() #to upper_case"
      ]
    },
    {
      "cell_type": "code",
      "execution_count": null,
      "metadata": {
        "colab": {
          "base_uri": "https://localhost:8080/"
        },
        "id": "V0_kUpxrVo8y",
        "outputId": "d5406ed1-9d02-4dd0-b5b8-b9a6e1d936bd"
      },
      "outputs": [
        {
          "name": "stdout",
          "output_type": "stream",
          "text": [
            " working hard and being consistent has an end result.  like wise being lazy and in consistent\n"
          ]
        }
      ],
      "source": [
        "#string strip- remove excess space.\n",
        "aline = ' working hard and being consistent has an end result.  like wise being lazy and in consistent'\n",
        "print(aline)"
      ]
    },
    {
      "cell_type": "code",
      "execution_count": null,
      "metadata": {
        "colab": {
          "base_uri": "https://localhost:8080/"
        },
        "id": "7V9r_COhWZ9_",
        "outputId": "389252d7-df0b-4019-b245-45c05f70c5c2"
      },
      "outputs": [
        {
          "name": "stdout",
          "output_type": "stream",
          "text": [
            "working hard and being consistent has an end result.  like wise being lazy and in consistent\n",
            "Working hard and being consistent has an end result.  like wise being lazy and in consistent\n"
          ]
        }
      ],
      "source": [
        "#aline string have so much space to remove.\n",
        "remove_space =aline.strip() #remove first and last space\n",
        "print(remove_space)\n",
        "#to capitalize( make the first letter upper)\n",
        "cap = remove_space.capitalize()\n",
        "print(cap)"
      ]
    },
    {
      "cell_type": "code",
      "execution_count": null,
      "metadata": {
        "colab": {
          "base_uri": "https://localhost:8080/"
        },
        "id": "9wkJvTSaX62y",
        "outputId": "782131b2-6dec-44ae-ebaf-0586aa629445"
      },
      "outputs": [
        {
          "name": "stdout",
          "output_type": "stream",
          "text": [
            " You have to keep pushing, it will worth it at the end\n",
            "You have to keep pushing, it will worth it at the end  \n"
          ]
        }
      ],
      "source": [
        "#removing left and right space\n",
        "ccc = ' You have to keep pushing, it will worth it at the end  ' # has spaces on both side\n",
        "r_space = ccc.rstrip() #remove right space\n",
        "l_space = ccc.lstrip() #remove left space\n",
        "print(r_space)\n",
        "print(l_space)"
      ]
    },
    {
      "cell_type": "code",
      "execution_count": null,
      "metadata": {
        "colab": {
          "base_uri": "https://localhost:8080/"
        },
        "id": "k77V0wbRY0vP",
        "outputId": "e9f0a1c3-a137-4b9f-d8b1-c04e21ec0001"
      },
      "outputs": [
        {
          "name": "stdout",
          "output_type": "stream",
          "text": [
            "ChristianahChristianahChristianah\n",
            "Christianah Christianah Christianah \n",
            "FUNAABFUNAABFUNAAB\n",
            "FUNAAB FUNAAB FUNAAB \n"
          ]
        }
      ],
      "source": [
        "#string repitition- use (*) to repeat string\n",
        "me = name * 3\n",
        "print(me)\n",
        "#to add space\n",
        "#name is stored\n",
        "print((name + ' ')* 3) #plus space times 3\n",
        "school_name = 'FUNAAB'\n",
        "c_school = school_name * 3\n",
        "print(c_school)\n",
        "#space\n",
        "print((school_name + ' ')* 3)\n",
        "\n",
        "\n"
      ]
    },
    {
      "cell_type": "code",
      "execution_count": null,
      "metadata": {
        "colab": {
          "base_uri": "https://localhost:8080/"
        },
        "id": "hviA1tHtdCPG",
        "outputId": "e227ce88-0b17-42ff-85b6-f8f3fd39e1ac"
      },
      "outputs": [
        {
          "name": "stdout",
          "output_type": "stream",
          "text": [
            " I love Pineapple\n",
            " I love Mango\n",
            " I like Pineapple\n"
          ]
        }
      ],
      "source": [
        "##replacing strings\n",
        "fav_fruit = ' I love Pineapple'\n",
        "print(fav_fruit)\n",
        "#to replace in string\n",
        "new_frt = fav_fruit.replace('Pineapple', 'Mango')\n",
        "print(new_frt)\n",
        "new_word = fav_fruit.replace('love','like')\n",
        "print(new_word)\n",
        "\n"
      ]
    },
    {
      "cell_type": "code",
      "execution_count": null,
      "metadata": {
        "colab": {
          "base_uri": "https://localhost:8080/"
        },
        "id": "s9BeCqzWeybU",
        "outputId": "40a3ba54-382d-4423-e895-a40b3a7a9c7b"
      },
      "outputs": [
        {
          "name": "stdout",
          "output_type": "stream",
          "text": [
            "['I', 'love', 'Pineapple']\n",
            "I-love-Pineapple\n"
          ]
        }
      ],
      "source": [
        "#splitting & joining strings\n",
        "wrds_split = fav_fruit.split()\n",
        "print(wrds_split)\n",
        "#to join\n",
        "wrds_join = '-'.join(wrds_split)\n",
        "print(wrds_join)"
      ]
    },
    {
      "cell_type": "code",
      "execution_count": null,
      "metadata": {
        "colab": {
          "base_uri": "https://localhost:8080/"
        },
        "id": "Rw014PDLgxNY",
        "outputId": "cb09a367-a97b-419c-d5d4-a0377455e00b"
      },
      "outputs": [
        {
          "name": "stdout",
          "output_type": "stream",
          "text": [
            "22\n",
            "7\n",
            "2\n",
            "4\n"
          ]
        }
      ],
      "source": [
        "#finding and counting substrings\n",
        "lines = 'Python programming is cool'\n",
        "eg = lines.find('cool') #out the index of cool\n",
        "print(eg)\n",
        "eeg = lines.find('program')\n",
        "print(eeg)\n",
        "#to count- find how many times a particular letter exist\n",
        "exx = lines.count('m') #2m\n",
        "print(exx)\n",
        "evv = lines.count('o') #4o\n",
        "print(evv)"
      ]
    },
    {
      "cell_type": "code",
      "execution_count": null,
      "metadata": {
        "colab": {
          "base_uri": "https://localhost:8080/"
        },
        "id": "iOqw_azfiqgv",
        "outputId": "511e3a17-a239-48e1-bf7a-0770b195809d"
      },
      "outputs": [
        {
          "name": "stdout",
          "output_type": "stream",
          "text": [
            "False\n",
            "True\n",
            "False\n"
          ]
        }
      ],
      "source": [
        "#checking string properties\n",
        "#lines is defined\n",
        "dc = lines.isdigit() #tell us if it is a digit or not\n",
        "print(dc)\n",
        "fg = '1225' #put as a string\n",
        "dh =fg.isdigit()\n",
        "print(dh)\n",
        "mixed = 'Jashar15' #everything isn't digit\n",
        "ch = mixed.isdigit()\n",
        "print(ch)\n"
      ]
    },
    {
      "cell_type": "markdown",
      "metadata": {
        "id": "qSlUQQJnj1qA"
      },
      "source": [
        "List"
      ]
    },
    {
      "cell_type": "code",
      "execution_count": null,
      "metadata": {
        "colab": {
          "base_uri": "https://localhost:8080/"
        },
        "id": "D-pJurrMj4jh",
        "outputId": "a1ce3e99-1a51-4ecf-f551-28ec908df48e"
      },
      "outputs": [
        {
          "name": "stdout",
          "output_type": "stream",
          "text": [
            "yam\n",
            "beans\n"
          ]
        }
      ],
      "source": [
        "#list is defined using square brackets []\n",
        "#can store different data types\n",
        "foods = ['rice', 'beans', 'yam', 'plantain']\n",
        "#to access list\n",
        "to_ac = foods[2]\n",
        "print(to_ac)\n",
        "#remeber index starting from o and negative index from (-1)\n",
        "to_acc = foods[-3]\n",
        "print(to_acc)"
      ]
    },
    {
      "cell_type": "code",
      "execution_count": null,
      "metadata": {
        "colab": {
          "base_uri": "https://localhost:8080/"
        },
        "id": "GKloOJ-Wk_h5",
        "outputId": "14fce204-4ec6-46ac-d249-390b445e1158"
      },
      "outputs": [
        {
          "name": "stdout",
          "output_type": "stream",
          "text": [
            "['beans', 'yam']\n",
            "['rice', 'beans', 'yam', 'plantain']\n",
            "['rice', 'beans', 'yam', 'plantain']\n",
            "['yam']\n"
          ]
        }
      ],
      "source": [
        "#list slicing- returns a sublist from one index to the next index\n",
        "sli = foods[1: 3] #the last one is exclusive\n",
        "print(sli)\n",
        "SLI = foods[0: 4]\n",
        "print(SLI)\n",
        "Ed = foods[0:]#all to end\n",
        "print(Ed)\n",
        "Ng = foods[2: -1]\n",
        "print(Ng)"
      ]
    },
    {
      "cell_type": "code",
      "execution_count": null,
      "metadata": {
        "colab": {
          "base_uri": "https://localhost:8080/"
        },
        "id": "pKdGURTWn3qM",
        "outputId": "70a1d139-ec42-442a-a621-e6e8af991df8"
      },
      "outputs": [
        {
          "name": "stdout",
          "output_type": "stream",
          "text": [
            "['rice', 'yam']\n",
            "['plantain', 'yam', 'beans', 'rice']\n",
            "['serum', 'fare', 'pen', 'clothes']\n",
            "['serum', 'journal', 'clothes']\n"
          ]
        }
      ],
      "source": [
        "#skipping\n",
        "skp= foods[::2]\n",
        "print(skp)\n",
        "skkp = foods[::-1] #reverse a list\n",
        "print(skkp)\n",
        "needs = ['serum', 'data', 'fare', 'journal', 'pen', 'water', 'clothes']\n",
        "nds = needs[::2]\n",
        "print(nds)\n",
        "ndds = needs[::3]\n",
        "print(ndds)"
      ]
    },
    {
      "cell_type": "code",
      "execution_count": null,
      "metadata": {
        "colab": {
          "base_uri": "https://localhost:8080/"
        },
        "id": "pB9lEc1BqvC3",
        "outputId": "98c1465f-b104-4c0e-de58-a7bac41de92d"
      },
      "outputs": [
        {
          "name": "stdout",
          "output_type": "stream",
          "text": [
            "chicken\n",
            "phone\n",
            "['rice', 'beans', 'chicken', 'plantain']\n",
            "['serum', 'data', 'fare', 'phone', 'pen', 'water', 'clothes']\n"
          ]
        }
      ],
      "source": [
        "#modifying elements/values in list\n",
        "md = foods[2] = 'chicken'\n",
        "print(md)\n",
        "mdd = needs[-4] = 'phone'\n",
        "print(mdd)\n",
        "print(foods)\n",
        "print(needs)"
      ]
    },
    {
      "cell_type": "code",
      "execution_count": null,
      "metadata": {
        "colab": {
          "base_uri": "https://localhost:8080/"
        },
        "id": "Mrx25-MRxcKJ",
        "outputId": "73b4454d-05b7-41ed-8e4b-2d29f4bfa0bf"
      },
      "outputs": [
        {
          "name": "stdout",
          "output_type": "stream",
          "text": [
            "['rice', 'beans', 'chicken', 'plantain', 'pancakes']\n"
          ]
        }
      ],
      "source": [
        "#adding elements\n",
        "#append(item) add item to the end\n",
        "foods.append('pancakes')\n",
        "print(foods)"
      ]
    },
    {
      "cell_type": "code",
      "execution_count": null,
      "metadata": {
        "colab": {
          "base_uri": "https://localhost:8080/"
        },
        "id": "ziHSwbNfyugz",
        "outputId": "8aa1de67-98da-477f-da5a-3cf5d10b6175"
      },
      "outputs": [
        {
          "name": "stdout",
          "output_type": "stream",
          "text": [
            "['rice', 'beans', 'chicken', 'egg', 'plantain', 'pancakes']\n",
            "['serum', 'data', 'fare', 'phone', 'pen', 'shoes', 'water', 'clothes']\n"
          ]
        }
      ],
      "source": [
        "#insert(index, item) add item before index\n",
        "foods.insert(3,'egg')\n",
        "print(foods)\n",
        "needs.insert(5, 'shoes')\n",
        "print(needs)"
      ]
    },
    {
      "cell_type": "code",
      "execution_count": null,
      "metadata": {
        "colab": {
          "base_uri": "https://localhost:8080/"
        },
        "id": "8f43fVwIzUWO",
        "outputId": "0feec98d-08ae-4ee2-c2af-083b8fbb81cf"
      },
      "outputs": [
        {
          "name": "stdout",
          "output_type": "stream",
          "text": [
            "['rice', 'beans', 'chicken', 'egg', 'plantain', 'pancakes', 'bread', 'Semo', 'pasta']\n"
          ]
        }
      ],
      "source": [
        "#extend(create a new list and add to existing to give new list)\n",
        "foods_2 = ['bread', 'Semo', 'pasta']\n",
        "foods.extend(foods_2)\n",
        "print(foods)"
      ]
    },
    {
      "cell_type": "code",
      "execution_count": null,
      "metadata": {
        "colab": {
          "base_uri": "https://localhost:8080/"
        },
        "id": "_X4zfWSXz6gx",
        "outputId": "4a2294dd-55cc-4f5e-b87c-15016cb26413"
      },
      "outputs": [
        {
          "name": "stdout",
          "output_type": "stream",
          "text": [
            "['rice', 'beans', 'chicken', 'plantain', 'pancakes', 'bread', 'Semo', 'pasta']\n"
          ]
        }
      ],
      "source": [
        "#removing elements in list\n",
        "#remove(item) first occurrence of item or only\n",
        "foods.remove('egg')\n",
        "print(foods)"
      ]
    },
    {
      "cell_type": "code",
      "execution_count": null,
      "metadata": {
        "colab": {
          "base_uri": "https://localhost:8080/"
        },
        "id": "3z-cBpl20VFa",
        "outputId": "bba405b1-5130-4c9a-94a0-2d1aa6d1c26b"
      },
      "outputs": [
        {
          "name": "stdout",
          "output_type": "stream",
          "text": [
            "['serum', 'data', 'fare', 'phone', 'pen', 'shoes']\n",
            "['serum', 'data', 'phone', 'pen', 'shoes']\n"
          ]
        }
      ],
      "source": [
        "#pop(index) remove the last item as default if index is not input\n",
        "needs.pop()\n",
        "print(needs)\n",
        "needs.pop(2)\n",
        "print(needs)"
      ]
    },
    {
      "cell_type": "code",
      "execution_count": null,
      "metadata": {
        "colab": {
          "base_uri": "https://localhost:8080/"
        },
        "id": "2akyNWjY07U_",
        "outputId": "ddfd3979-80cb-4090-8a84-c1abdea270ef"
      },
      "outputs": [
        {
          "name": "stdout",
          "output_type": "stream",
          "text": [
            "['bread', 'Semo']\n"
          ]
        }
      ],
      "source": [
        "#del(index)\n",
        "del foods_2[2:]\n",
        "print(foods_2)"
      ]
    },
    {
      "cell_type": "code",
      "execution_count": null,
      "metadata": {
        "id": "f3VmRqaw1ZYR"
      },
      "outputs": [],
      "source": [
        "#del all\n",
        "del foods_2"
      ]
    },
    {
      "cell_type": "code",
      "execution_count": null,
      "metadata": {
        "id": "j0pqUMAh1h5k"
      },
      "outputs": [],
      "source": [
        "#clear- all items removed but variable still intact\n",
        "needs.clear()"
      ]
    },
    {
      "cell_type": "code",
      "execution_count": null,
      "metadata": {
        "colab": {
          "base_uri": "https://localhost:8080/"
        },
        "id": "3nrpCf5S2ZtJ",
        "outputId": "e49c20cc-85af-4f7f-f2f5-fda20706c940"
      },
      "outputs": [
        {
          "data": {
            "text/plain": [
              "[]"
            ]
          },
          "execution_count": 182,
          "metadata": {},
          "output_type": "execute_result"
        }
      ],
      "source": [
        "needs"
      ]
    },
    {
      "cell_type": "markdown",
      "metadata": {
        "id": "kbLoztrZ2gP6"
      },
      "source": [
        "Tuple"
      ]
    },
    {
      "cell_type": "code",
      "execution_count": null,
      "metadata": {
        "colab": {
          "base_uri": "https://localhost:8080/",
          "height": 36
        },
        "id": "P8hzOmN12h2_",
        "outputId": "ea1b2529-ddca-46e0-a72a-9f2e16a67340"
      },
      "outputs": [
        {
          "data": {
            "application/vnd.google.colaboratory.intrinsic+json": {
              "type": "string"
            },
            "text/plain": [
              "'Mali'"
            ]
          },
          "execution_count": 183,
          "metadata": {},
          "output_type": "execute_result"
        }
      ],
      "source": [
        "#tuple is immutable(cannot be modified after creation)\n",
        "#use () not [] like list\n",
        "#can hold different data types\n",
        "#to access\n",
        "country = ('Nigeria', 'Ghana', 'Mali', 'Angola')\n",
        "country[2]"
      ]
    },
    {
      "cell_type": "code",
      "execution_count": null,
      "metadata": {
        "colab": {
          "base_uri": "https://localhost:8080/"
        },
        "id": "zigow73Y4Cki",
        "outputId": "e3347966-8c80-4ac8-bfb7-657971545a9f"
      },
      "outputs": [
        {
          "name": "stdout",
          "output_type": "stream",
          "text": [
            "('Nigeria', 'Ghana', 'Mali', 'Angola', 'Kenya', 'Kenya')\n"
          ]
        }
      ],
      "source": [
        "#you can't modify directly like list\n",
        "#country[2] = 'Kenya' is not possible\n",
        "#to modify tuple, change to list and back to tuple\n",
        "f = list(country) #change to list\n",
        "f.append('Kenya') #add to list\n",
        "#then back to tuple\n",
        "country =tuple(f)\n",
        "print(country)\n"
      ]
    },
    {
      "cell_type": "markdown",
      "metadata": {
        "id": "H7lvsvvV5dFC"
      },
      "source": [
        "List Comprehension"
      ]
    },
    {
      "cell_type": "code",
      "execution_count": null,
      "metadata": {
        "colab": {
          "base_uri": "https://localhost:8080/"
        },
        "id": "4MJK1W0C5gVL",
        "outputId": "9d4d7aba-4405-4578-c499-982eab313854"
      },
      "outputs": [
        {
          "name": "stdout",
          "output_type": "stream",
          "text": [
            "['RICE', 'BEANS', 'CHICKEN', 'PLANTAIN', 'PANCAKES', 'BREAD', 'SEMO', 'PASTA']\n",
            "['Rice', 'Beans', 'Chicken', 'Plantain', 'Pancakes', 'Bread', 'Semo', 'Pasta']\n"
          ]
        }
      ],
      "source": [
        "#practice assignment\n",
        "#make all foods capitalized using list comprehension\n",
        "#foods is defined\n",
        "upper_foods = [food.upper()for food in foods]\n",
        "print(upper_foods)\n",
        "cap_foods = [food.capitalize()for food in foods]\n",
        "print(cap_foods)"
      ]
    },
    {
      "cell_type": "code",
      "execution_count": null,
      "metadata": {
        "colab": {
          "base_uri": "https://localhost:8080/"
        },
        "id": "B5REbK3X6q3R",
        "outputId": "00355669-f3e6-4eb2-f118-a71961f1bcdc"
      },
      "outputs": [
        {
          "name": "stdout",
          "output_type": "stream",
          "text": [
            "[2, 4, 6, 8, 10, 12, 14, 16, 18, 20, 22, 24, 26, 28, 30]\n",
            "[4, 16, 36, 64, 100, 144, 196, 256, 324, 400, 484, 576, 676, 784, 900]\n"
          ]
        }
      ],
      "source": [
        "#assignment- list a number 1 to 30 and find the even and square of even using list comprehe\n",
        "numbs = [1,2,3,4,5,6,7,8,9,10,11,12,13,14,15,16,17,18,19,20,21,22,23,24,25,26,27,28,29,30]\n",
        "even_numbs = [number for number in numbs if number % 2 == 0]\n",
        "print(even_numbs)\n",
        "square = [numb ** 2 for numb in even_numbs]\n",
        "print(square)"
      ]
    },
    {
      "cell_type": "code",
      "execution_count": null,
      "metadata": {
        "colab": {
          "base_uri": "https://localhost:8080/"
        },
        "id": "-ZZ2aGnyPHNt",
        "outputId": "96b682dd-1b62-4fac-a47f-c7afc6492aba"
      },
      "outputs": [
        {
          "name": "stdout",
          "output_type": "stream",
          "text": [
            "0\n"
          ]
        }
      ],
      "source": [
        "print(5 ** 2 // 3 % 4)"
      ]
    },
    {
      "cell_type": "code",
      "execution_count": null,
      "metadata": {
        "colab": {
          "base_uri": "https://localhost:8080/"
        },
        "id": "qYsrEYkZQ3N-",
        "outputId": "5e8de9ad-b704-49a0-dae0-baa194d01b2d"
      },
      "outputs": [
        {
          "data": {
            "text/plain": [
              "3"
            ]
          },
          "execution_count": 2,
          "metadata": {},
          "output_type": "execute_result"
        }
      ],
      "source": [
        "#count in tuples\n",
        "kids_age = (4, 7, 6, 8, 9, 5, 4, 6, 6, 8, 8,5)\n",
        "kids_age.count(6)"
      ]
    },
    {
      "cell_type": "code",
      "execution_count": null,
      "metadata": {
        "colab": {
          "base_uri": "https://localhost:8080/"
        },
        "id": "3IFyXr-4RjJd",
        "outputId": "6bf32f75-7061-4f23-b159-f29a3d28d33f"
      },
      "outputs": [
        {
          "data": {
            "text/plain": [
              "3"
            ]
          },
          "execution_count": 3,
          "metadata": {},
          "output_type": "execute_result"
        }
      ],
      "source": [
        "kids_age.index(8) #find first occurrence of an element\n"
      ]
    },
    {
      "cell_type": "code",
      "execution_count": null,
      "metadata": {
        "colab": {
          "base_uri": "https://localhost:8080/"
        },
        "id": "jK5DriBKR6Dd",
        "outputId": "f1a1b917-0a79-44c5-c3b6-23f5e24fc38c"
      },
      "outputs": [
        {
          "name": "stdout",
          "output_type": "stream",
          "text": [
            "doctor\n",
            "lawyer\n",
            "engineer\n"
          ]
        }
      ],
      "source": [
        "#tuple packing- storing multiple values in a single tuple\n",
        "career = ('doctor', 'engineer', 'lawyer')\n",
        "#tuple unpacking- extract values from a tuple into separate variables\n",
        "e, p, w = career\n",
        "print(e)\n",
        "print(w)\n",
        "print(p)"
      ]
    },
    {
      "cell_type": "markdown",
      "metadata": {
        "id": "1aMo0cxsSyYQ"
      },
      "source": [
        "Set"
      ]
    },
    {
      "cell_type": "code",
      "execution_count": null,
      "metadata": {
        "colab": {
          "base_uri": "https://localhost:8080/"
        },
        "id": "s-luULkqSzzW",
        "outputId": "b4ad1f7d-c484-4182-ce19-1ddeef8d75b1"
      },
      "outputs": [
        {
          "name": "stdout",
          "output_type": "stream",
          "text": [
            "{'Oau', 'Funaab', 'Ui', 'Unilag'}\n"
          ]
        }
      ],
      "source": [
        "#sets uses {} and it is mutable\n",
        "#sets removduplicate from the values\n",
        "#in operator, is faster than list\n",
        "college = {'Funaab', 'Oau', 'Ui', 'Unilag', 'Ui'}\n",
        "#set will remove ui cause it appears more than once\n",
        "print(college)"
      ]
    },
    {
      "cell_type": "code",
      "execution_count": null,
      "metadata": {
        "colab": {
          "base_uri": "https://localhost:8080/"
        },
        "id": "fF9QylQfTxs4",
        "outputId": "6a2b8463-f0d8-477b-cfe6-b95945a70899"
      },
      "outputs": [
        {
          "name": "stdout",
          "output_type": "stream",
          "text": [
            "{'Weeks', 'Months', 'Day', 'Year'}\n"
          ]
        }
      ],
      "source": [
        "#to convert list to set\n",
        "alst = ['Day', 'Weeks', 'Months', 'Year']\n",
        "#that is a list above\n",
        "yy = set(alst) # convert list to set\n",
        "print(yy)"
      ]
    },
    {
      "cell_type": "code",
      "execution_count": null,
      "metadata": {
        "colab": {
          "base_uri": "https://localhost:8080/"
        },
        "id": "lNfTa2adUXTb",
        "outputId": "c6a0cb37-c393-4830-e416-d167cb983c4c"
      },
      "outputs": [
        {
          "name": "stdout",
          "output_type": "stream",
          "text": [
            "{'Oau', 'Unilorin', 'Funaab', 'Unilag', 'Ui'}\n"
          ]
        }
      ],
      "source": [
        "#adding elements in set\n",
        "#use add function in a set\n",
        "college.add('Unilorin')\n",
        "print(college)\n"
      ]
    },
    {
      "cell_type": "code",
      "execution_count": null,
      "metadata": {
        "colab": {
          "base_uri": "https://localhost:8080/"
        },
        "id": "BRga7kZHU2cc",
        "outputId": "d19fe345-beb1-496b-dd4a-b377336fee12"
      },
      "outputs": [
        {
          "name": "stdout",
          "output_type": "stream",
          "text": [
            "{'Oau', 'Unilorin', 'Funaab', 'Unilag'}\n"
          ]
        }
      ],
      "source": [
        "#removing\n",
        "college.remove('Ui')\n",
        "print(college)"
      ]
    },
    {
      "cell_type": "code",
      "execution_count": null,
      "metadata": {
        "id": "gneLUrDeVGeF"
      },
      "outputs": [],
      "source": [
        "#if you try remove function for an element not present in a set, it will give error\n",
        "#yy.remove('birth')- error because birth is not available\n",
        "#but discard function won't give error but only discard the information\n",
        "yy.discard('birth')\n"
      ]
    },
    {
      "cell_type": "code",
      "execution_count": null,
      "metadata": {
        "colab": {
          "base_uri": "https://localhost:8080/"
        },
        "id": "i0SxBPTAW9Qx",
        "outputId": "d5f4fa6f-16bb-40b1-b33c-d8dddfbe2a35"
      },
      "outputs": [
        {
          "name": "stdout",
          "output_type": "stream",
          "text": [
            "{'Months', 'Day', 'Year'}\n"
          ]
        }
      ],
      "source": [
        "#pop function- remove last element\n",
        "yy.pop()\n",
        "print(yy)"
      ]
    },
    {
      "cell_type": "markdown",
      "metadata": {
        "id": "OJi1EmhNX8ov"
      },
      "source": [
        "Dictionaries"
      ]
    },
    {
      "cell_type": "code",
      "execution_count": null,
      "metadata": {
        "colab": {
          "base_uri": "https://localhost:8080/"
        },
        "id": "yflzz2dGX_dx",
        "outputId": "bf70ce75-795a-4b9c-a9fb-c964949a8a4a"
      },
      "outputs": [
        {
          "name": "stdout",
          "output_type": "stream",
          "text": [
            "{'Name': 'Hauwa', 'Age': 24, 'GPA': 4.5}\n"
          ]
        }
      ],
      "source": [
        "#dict uses {} as set\n",
        "student = {'Name': 'Hauwa', 'Age': 24, 'GPA': 4.5}\n",
        "print(student)"
      ]
    },
    {
      "cell_type": "code",
      "execution_count": null,
      "metadata": {
        "colab": {
          "base_uri": "https://localhost:8080/"
        },
        "id": "kJ1-W6VIYtHi",
        "outputId": "92d2cb6b-75ff-4ca6-f180-9bbccebcca51"
      },
      "outputs": [
        {
          "data": {
            "text/plain": [
              "dict_keys(['Name', 'Age', 'GPA'])"
            ]
          },
          "execution_count": 30,
          "metadata": {},
          "output_type": "execute_result"
        }
      ],
      "source": [
        "#keys func returns a list-like object of all keys\n",
        "student.keys()"
      ]
    },
    {
      "cell_type": "code",
      "execution_count": null,
      "metadata": {
        "colab": {
          "base_uri": "https://localhost:8080/"
        },
        "id": "nyMBcTvgY9We",
        "outputId": "613d20d1-f970-44ef-efc0-d852c7f077eb"
      },
      "outputs": [
        {
          "data": {
            "text/plain": [
              "dict_values(['Hauwa', 24, 4.5])"
            ]
          },
          "execution_count": 31,
          "metadata": {},
          "output_type": "execute_result"
        }
      ],
      "source": [
        "#values returns a list-like object of all values\n",
        "student.values()\n"
      ]
    },
    {
      "cell_type": "code",
      "execution_count": null,
      "metadata": {
        "colab": {
          "base_uri": "https://localhost:8080/"
        },
        "id": "EOkO2T4MZUC5",
        "outputId": "852cec6f-10b7-40ab-d1af-e071763915ca"
      },
      "outputs": [
        {
          "data": {
            "text/plain": [
              "dict_items([('Name', 'Hauwa'), ('Age', 24), ('GPA', 4.5)])"
            ]
          },
          "execution_count": 32,
          "metadata": {},
          "output_type": "execute_result"
        }
      ],
      "source": [
        "#items returns all key-value pairs as tuples\n",
        "student.items()\n"
      ]
    },
    {
      "cell_type": "code",
      "execution_count": null,
      "metadata": {
        "colab": {
          "base_uri": "https://localhost:8080/"
        },
        "id": "CHH1FDfFZk77",
        "outputId": "1cf77d29-a950-41d7-97d7-df4d021ccdc8"
      },
      "outputs": [
        {
          "name": "stdout",
          "output_type": "stream",
          "text": [
            "{'Names': ['Fola', 'Donney', 'Mavis'], 'Age': [23, 26, 24], 'GPA': [4.3, 4.6, 5.0]}\n"
          ]
        }
      ],
      "source": [
        "students = {'Names': ['Fola', 'Donney', 'Mavis'],\n",
        "            'Age':[23, 26, 24],\n",
        "            'GPA':[4.3, 4.6, 5.0]}\n",
        "print(students)\n"
      ]
    },
    {
      "cell_type": "markdown",
      "metadata": {
        "id": "xFZElED3a0Bo"
      },
      "source": [
        "Conditional Statement"
      ]
    },
    {
      "cell_type": "code",
      "execution_count": null,
      "metadata": {
        "colab": {
          "base_uri": "https://localhost:8080/"
        },
        "id": "EWU7hyXaa6D-",
        "outputId": "742db28c-5b4a-4cc8-ad96-26df51308a31"
      },
      "outputs": [
        {
          "name": "stdout",
          "output_type": "stream",
          "text": [
            "you are eligible to vote\n"
          ]
        }
      ],
      "source": [
        "#if statement\n",
        "#if condition : statement 1\n",
        "              # statement 2\n",
        "#conditions can be value, variable or expression.\n",
        "#if the condition is true, the if block is executed.\n",
        "agee = 20\n",
        "if agee >= 18:\n",
        "  print('you are eligible to vote')\n"
      ]
    },
    {
      "cell_type": "code",
      "execution_count": null,
      "metadata": {
        "colab": {
          "base_uri": "https://localhost:8080/"
        },
        "id": "u4PheyTIb0Ge",
        "outputId": "63eac231-e671-46f3-c85b-7f80723d001b"
      },
      "outputs": [
        {
          "name": "stdout",
          "output_type": "stream",
          "text": [
            "you are in the right class\n"
          ]
        }
      ],
      "source": [
        "#another\n",
        "noon_class = 'Fpy 477'\n",
        "if noon_class == 'Fpy 477':\n",
        "  print('you are in the right class')"
      ]
    },
    {
      "cell_type": "code",
      "execution_count": null,
      "metadata": {
        "colab": {
          "base_uri": "https://localhost:8080/"
        },
        "id": "JX5-2BeOcOv0",
        "outputId": "17d6f6cd-7617-4abc-dfb9-ad9914a60030"
      },
      "outputs": [
        {
          "name": "stdout",
          "output_type": "stream",
          "text": [
            "you are in the wrong class\n"
          ]
        }
      ],
      "source": [
        "#else statement false output\n",
        "mid_class = 'GH11'\n",
        "if mid_class == 'WMA':\n",
        "  print('you are in the right class')\n",
        "else:\n",
        "  print('you are in the wrong class')"
      ]
    },
    {
      "cell_type": "code",
      "execution_count": null,
      "metadata": {
        "colab": {
          "base_uri": "https://localhost:8080/"
        },
        "id": "Up-U8v8LdR_8",
        "outputId": "bc11b6e7-0ba7-4770-b13d-f84f96e26e24"
      },
      "outputs": [
        {
          "name": "stdout",
          "output_type": "stream",
          "text": [
            "The value, 18 is even\n"
          ]
        }
      ],
      "source": [
        "#check if value is odd or even\n",
        "the_value = 18\n",
        "if the_value % 2 == 0:\n",
        "  print(f'The value, {the_value} is even')\n",
        "else:\n",
        "  print(f'The valu, {the_value} is odd')"
      ]
    },
    {
      "cell_type": "code",
      "execution_count": null,
      "metadata": {
        "colab": {
          "base_uri": "https://localhost:8080/"
        },
        "id": "yEd3AxFBeRk6",
        "outputId": "44effaca-98ce-4fe3-bfe1-0862751046a8"
      },
      "outputs": [
        {
          "name": "stdout",
          "output_type": "stream",
          "text": [
            "it is odd\n"
          ]
        }
      ],
      "source": [
        "#\n",
        "vv = 23\n",
        "if vv % 2 == 0:\n",
        "  print('it is even')\n",
        "else:\n",
        "  print('it is odd')\n"
      ]
    },
    {
      "cell_type": "code",
      "execution_count": null,
      "metadata": {
        "id": "gnwmnUwNemWA"
      },
      "outputs": [],
      "source": [
        "#checking user_input\n",
        "my_score = input('What is your math score?')\n",
        "#userinput don't work on mobile😪\n"
      ]
    },
    {
      "cell_type": "code",
      "execution_count": null,
      "metadata": {
        "colab": {
          "base_uri": "https://localhost:8080/"
        },
        "id": "n6AzF3oRiFeq",
        "outputId": "719a897d-7ac2-4fb4-eadf-927176eb5a98"
      },
      "outputs": [
        {
          "name": "stdout",
          "output_type": "stream",
          "text": [
            "Grace B, you can do better\n"
          ]
        }
      ],
      "source": [
        "#elif dealing with more than 2 conditions\n",
        "my_score = 78.9\n",
        "if my_score >= 80:\n",
        "  print('Grade A, promoted')\n",
        "elif my_score >= 70:\n",
        "  print('Grace B, you can do better')\n",
        "else:\n",
        "  print('Grade F, repeated')"
      ]
    },
    {
      "cell_type": "code",
      "execution_count": null,
      "metadata": {
        "colab": {
          "base_uri": "https://localhost:8080/"
        },
        "id": "G8pMXZ_ui6Kf",
        "outputId": "04bc3df8-64bc-4179-cd32-192eebe6bf75"
      },
      "outputs": [
        {
          "name": "stdout",
          "output_type": "stream",
          "text": [
            "Stop\n"
          ]
        }
      ],
      "source": [
        "#traffic light testing\n",
        "#i'm to use input func but not available for now\n",
        "scolor = 'red'\n",
        "if scolor == 'green':\n",
        "  print('Go')\n",
        "elif scolor == 'yellow':\n",
        "  print('Ready')\n",
        "elif scolor == 'red':\n",
        "  print('Stop')\n",
        "else:\n",
        "  print('Sleep')"
      ]
    },
    {
      "cell_type": "code",
      "execution_count": null,
      "metadata": {
        "id": "_1AmsABdjz6_"
      },
      "outputs": [],
      "source": [
        "#I want to try a citizenhip and age voting eligibility\n",
        "#but userinput not working here, till we have a laptop.🌚\n",
        "\n"
      ]
    },
    {
      "cell_type": "code",
      "execution_count": null,
      "metadata": {
        "id": "Gbk537x7kUWD"
      },
      "outputs": [],
      "source": [
        "#pass statement\n",
        "#if statement can't be empty\n",
        "numm = 25\n",
        "if numm > 40: #no error, just won't return anything\n",
        "  pass"
      ]
    },
    {
      "cell_type": "markdown",
      "metadata": {
        "id": "6ZoYhljKk0Ps"
      },
      "source": [
        "Python Loops"
      ]
    },
    {
      "cell_type": "code",
      "execution_count": null,
      "metadata": {
        "colab": {
          "base_uri": "https://localhost:8080/"
        },
        "id": "ZFhbW1XQk3x5",
        "outputId": "62a10e61-eb6e-4997-fce6-6d0ea252806a"
      },
      "outputs": [
        {
          "name": "stdout",
          "output_type": "stream",
          "text": [
            "counting my candy : 1\n",
            "counting my candy : 2\n",
            "counting my candy : 3\n",
            "counting my candy : 4\n",
            "counting my candy : 5\n",
            "counting my candy : 6\n",
            "counting my candy : 7\n",
            "counting my candy : 8\n",
            "counting my candy : 9\n",
            "counting my candy : 10\n"
          ]
        }
      ],
      "source": [
        "#confusing at first.hahaha\n",
        "#python has two primitive loop commands\n",
        "#while loops and #for loops\n",
        "#note:remembeer to increment or decrement.\n",
        "#exercise- put a number 1 to 10\n",
        "count = 1\n",
        "while count <= 10:\n",
        "  print(f'counting my candy : {count}')\n",
        "  count = count + 1"
      ]
    },
    {
      "cell_type": "code",
      "execution_count": null,
      "metadata": {
        "colab": {
          "base_uri": "https://localhost:8080/"
        },
        "id": "cheTTFst326A",
        "outputId": "6b0e2631-af9c-495f-954f-27a6fe4d1db6"
      },
      "outputs": [
        {
          "name": "stdout",
          "output_type": "stream",
          "text": [
            "square of 0 = 0\n",
            "square of 1 = 1\n",
            "square of 2 = 4\n",
            "square of 3 = 9\n",
            "square of 4 = 16\n",
            "square of 5 = 25\n",
            "square of 6 = 36\n",
            "square of 7 = 49\n",
            "square of 8 = 64\n",
            "square of 9 = 81\n",
            "square of 10 = 100\n"
          ]
        }
      ],
      "source": [
        "#square of numbers\n",
        "num = 0\n",
        "while num <= 10:\n",
        "  print(f'square of {num} = {num ** 2}')\n",
        "  num = num + 1"
      ]
    },
    {
      "cell_type": "code",
      "execution_count": null,
      "metadata": {
        "colab": {
          "base_uri": "https://localhost:8080/"
        },
        "id": "bPW0oRRE5DDs",
        "outputId": "ddc77044-6f60-4d25-c970-dfad7fe217aa"
      },
      "outputs": [
        {
          "name": "stdout",
          "output_type": "stream",
          "text": [
            "4\n",
            "12\n",
            "24\n",
            "24\n"
          ]
        }
      ],
      "source": [
        "#factorial of number\n",
        "num = 4\n",
        "result = 1 #initialize\n",
        "while num >= 1:\n",
        "  result = result * num\n",
        "  num = num - 1\n",
        "  print(result)"
      ]
    },
    {
      "cell_type": "code",
      "execution_count": null,
      "metadata": {
        "colab": {
          "base_uri": "https://localhost:8080/"
        },
        "id": "2E2jJyOa5-DX",
        "outputId": "655322c6-776f-46ed-9e2b-0834f2cad79c"
      },
      "outputs": [
        {
          "name": "stdout",
          "output_type": "stream",
          "text": [
            "4\n",
            "3\n",
            "2\n",
            "1\n",
            "0\n"
          ]
        }
      ],
      "source": [
        "num = 5\n",
        "result = 1\n",
        "while num >= 1:\n",
        "  result = result * num\n",
        "  num = num - 1\n",
        "  print(result)"
      ]
    },
    {
      "cell_type": "code",
      "execution_count": null,
      "metadata": {
        "colab": {
          "base_uri": "https://localhost:8080/"
        },
        "id": "nNN1AICr6h0U",
        "outputId": "d2ecbbda-9923-4af1-e60e-bf56a957b3bf"
      },
      "outputs": [
        {
          "name": "stdout",
          "output_type": "stream",
          "text": [
            "*\n",
            "**\n",
            "***\n",
            "****\n",
            "*****\n",
            "******\n",
            "*******\n",
            "********\n",
            "*********\n",
            "**********\n",
            "***********\n",
            "**********\n",
            "*********\n",
            "********\n",
            "*******\n",
            "******\n",
            "*****\n",
            "****\n",
            "***\n",
            "**\n",
            "*\n"
          ]
        }
      ],
      "source": [
        "#a right angle triangle\n",
        "line = '*'\n",
        "max_length = 10\n",
        "while len(line) <= 10:\n",
        "  print(line)\n",
        "  line = line + '*'\n",
        "while len(line) > 0:\n",
        "  print(line)\n",
        "  line = line[: -1]"
      ]
    },
    {
      "cell_type": "code",
      "execution_count": null,
      "metadata": {
        "colab": {
          "base_uri": "https://localhost:8080/"
        },
        "id": "cboiols_75yh",
        "outputId": "91969238-0e8a-4ca3-d482-1403baedcc90"
      },
      "outputs": [
        {
          "name": "stdout",
          "output_type": "stream",
          "text": [
            "*\n",
            "**\n",
            "***\n",
            "****\n",
            "*****\n",
            "******\n",
            "*******\n",
            "******\n",
            "*****\n",
            "****\n",
            "***\n",
            "**\n",
            "*\n"
          ]
        }
      ],
      "source": [
        "line = '*'\n",
        "max_length = 6\n",
        "while len(line) <= 6:\n",
        "  print(line)\n",
        "  line = line + '*'\n",
        "while len(line) > 0:\n",
        "  print(line)\n",
        "  line = line[: -1]"
      ]
    },
    {
      "cell_type": "code",
      "execution_count": null,
      "metadata": {
        "colab": {
          "base_uri": "https://localhost:8080/"
        },
        "id": "zSiq6tTV8kWM",
        "outputId": "c444589c-aee5-4da4-9e65-3d8c8bf1b469"
      },
      "outputs": [
        {
          "name": "stdout",
          "output_type": "stream",
          "text": [
            "*\n",
            "***\n",
            "*****\n",
            "*******\n",
            "*********\n",
            "***********\n",
            "*************\n",
            "***********\n",
            "*********\n",
            "*******\n",
            "*****\n",
            "***\n",
            "*\n"
          ]
        }
      ],
      "source": [
        "line = '*'\n",
        "max_length = 11\n",
        "while len(line) <= 11:\n",
        "  print(line)\n",
        "  line = line + '**'\n",
        "while len(line) > 0:\n",
        "  print(line)\n",
        "  line = line[: -2]\n"
      ]
    },
    {
      "cell_type": "code",
      "execution_count": null,
      "metadata": {
        "colab": {
          "base_uri": "https://localhost:8080/"
        },
        "id": "C5zwbpQrHm3F",
        "outputId": "b94f9fed-1e88-4682-830f-c18df923f63c"
      },
      "outputs": [
        {
          "data": {
            "text/plain": [
              "26"
            ]
          },
          "execution_count": 2,
          "metadata": {},
          "output_type": "execute_result"
        }
      ],
      "source": [
        "len('python is my new language.')"
      ]
    },
    {
      "cell_type": "code",
      "execution_count": null,
      "metadata": {
        "colab": {
          "base_uri": "https://localhost:8080/"
        },
        "id": "mwsWcfF_IMYl",
        "outputId": "8d4d6496-c54b-42f5-96cb-d1ddd11ad565"
      },
      "outputs": [
        {
          "data": {
            "text/plain": [
              "1"
            ]
          },
          "execution_count": 3,
          "metadata": {},
          "output_type": "execute_result"
        }
      ],
      "source": [
        "10%3"
      ]
    },
    {
      "cell_type": "code",
      "execution_count": null,
      "metadata": {
        "colab": {
          "base_uri": "https://localhost:8080/"
        },
        "id": "_sKjZmS1ITRg",
        "outputId": "bc7fec51-9a98-48d9-db28-dff179cd5b4a"
      },
      "outputs": [
        {
          "data": {
            "text/plain": [
              "3"
            ]
          },
          "execution_count": 4,
          "metadata": {},
          "output_type": "execute_result"
        }
      ],
      "source": [
        "15//4"
      ]
    },
    {
      "cell_type": "code",
      "execution_count": null,
      "metadata": {
        "colab": {
          "base_uri": "https://localhost:8080/"
        },
        "id": "AUOGS69NITpN",
        "outputId": "f8cd0c81-89a4-45b8-8c65-d6ea0a20bb6c"
      },
      "outputs": [
        {
          "data": {
            "text/plain": [
              "['abc']"
            ]
          },
          "execution_count": 5,
          "metadata": {},
          "output_type": "execute_result"
        }
      ],
      "source": [
        "'abc'.split()"
      ]
    },
    {
      "cell_type": "code",
      "execution_count": null,
      "metadata": {
        "colab": {
          "base_uri": "https://localhost:8080/"
        },
        "id": "GX8qUhzFIkpG",
        "outputId": "f0de93e1-b4ce-4f44-e95d-eddff0285e13"
      },
      "outputs": [
        {
          "name": "stdout",
          "output_type": "stream",
          "text": [
            "False\n"
          ]
        }
      ],
      "source": [
        "print(not True)"
      ]
    },
    {
      "cell_type": "code",
      "execution_count": null,
      "metadata": {
        "colab": {
          "base_uri": "https://localhost:8080/"
        },
        "id": "yP6f7Gp7IqsT",
        "outputId": "6889edae-2df0-4624-cbd4-b26a4fe61493"
      },
      "outputs": [
        {
          "data": {
            "text/plain": [
              "512"
            ]
          },
          "execution_count": 7,
          "metadata": {},
          "output_type": "execute_result"
        }
      ],
      "source": [
        "2 ** 3 ** 2"
      ]
    },
    {
      "cell_type": "code",
      "execution_count": null,
      "metadata": {
        "colab": {
          "base_uri": "https://localhost:8080/"
        },
        "id": "nd4aznm8Iw1F",
        "outputId": "b3cc57bb-23e7-4bf0-9cb4-5c1c1e6e8535"
      },
      "outputs": [
        {
          "name": "stdout",
          "output_type": "stream",
          "text": [
            "False\n"
          ]
        }
      ],
      "source": [
        "print(0.1 + 0.2 == 0.3)"
      ]
    },
    {
      "cell_type": "code",
      "execution_count": null,
      "metadata": {
        "colab": {
          "base_uri": "https://localhost:8080/"
        },
        "id": "kTNfCAPRI6fZ",
        "outputId": "b1200317-9a6d-48b0-a44c-3399c7364cef"
      },
      "outputs": [
        {
          "data": {
            "text/plain": [
              "True"
            ]
          },
          "execution_count": 9,
          "metadata": {},
          "output_type": "execute_result"
        }
      ],
      "source": [
        "1 < 2 < 3"
      ]
    },
    {
      "cell_type": "code",
      "execution_count": null,
      "metadata": {
        "colab": {
          "base_uri": "https://localhost:8080/"
        },
        "id": "QKsJ3oXtJEmW",
        "outputId": "51cc4b67-a201-4580-fac9-f1b2fd2a7f15"
      },
      "outputs": [
        {
          "name": "stdout",
          "output_type": "stream",
          "text": [
            "python\n",
            "ababab\n"
          ]
        }
      ],
      "source": [
        "print('py' + 'thon')\n",
        "print(3 * 'ab')"
      ]
    },
    {
      "cell_type": "code",
      "execution_count": null,
      "metadata": {
        "colab": {
          "base_uri": "https://localhost:8080/"
        },
        "id": "9hGr0KaEJdp1",
        "outputId": "8e7dc14c-6ec4-4a4c-b92e-87a565445029"
      },
      "outputs": [
        {
          "name": "stdout",
          "output_type": "stream",
          "text": [
            "3\n"
          ]
        }
      ],
      "source": [
        "print(5 if False else(3 if True else 4))"
      ]
    },
    {
      "cell_type": "code",
      "execution_count": null,
      "metadata": {
        "colab": {
          "base_uri": "https://localhost:8080/",
          "height": 36
        },
        "id": "2dAQaw4AJzJA",
        "outputId": "e546df8d-bc36-442e-89f3-3aaa80b71621"
      },
      "outputs": [
        {
          "data": {
            "application/vnd.google.colaboratory.intrinsic+json": {
              "type": "string"
            },
            "text/plain": [
              "'e'"
            ]
          },
          "execution_count": 1,
          "metadata": {},
          "output_type": "execute_result"
        }
      ],
      "source": [
        "'hello'[1]"
      ]
    },
    {
      "cell_type": "code",
      "execution_count": null,
      "metadata": {
        "colab": {
          "base_uri": "https://localhost:8080/"
        },
        "id": "yk0rIdtmfvxe",
        "outputId": "3e3072bb-cc46-4862-e45f-658ed6cd44ea"
      },
      "outputs": [
        {
          "name": "stdout",
          "output_type": "stream",
          "text": [
            "0\n"
          ]
        }
      ],
      "source": [
        "print(5 ** 2 // 3 % 4)"
      ]
    },
    {
      "cell_type": "code",
      "execution_count": null,
      "metadata": {
        "colab": {
          "base_uri": "https://localhost:8080/"
        },
        "id": "L25fQt7ogRMB",
        "outputId": "a7248964-55ce-44d0-afec-8064905368c8"
      },
      "outputs": [
        {
          "name": "stdout",
          "output_type": "stream",
          "text": [
            "In range\n"
          ]
        }
      ],
      "source": [
        "x = 10\n",
        "if x > 5 and x < 15:\n",
        "  print('In range')"
      ]
    },
    {
      "cell_type": "code",
      "execution_count": null,
      "metadata": {
        "colab": {
          "base_uri": "https://localhost:8080/"
        },
        "id": "G-95WxIohzMC",
        "outputId": "53048a0b-a6a3-4f26-c229-b1678e950bd5"
      },
      "outputs": [
        {
          "name": "stdout",
          "output_type": "stream",
          "text": [
            "0 0\n",
            "0 1\n",
            "1 0\n",
            "1 1\n",
            "2 0\n",
            "2 1\n"
          ]
        }
      ],
      "source": [
        "for i in range(3):\n",
        "  for j in range(2):\n",
        "    print(i, j)"
      ]
    },
    {
      "cell_type": "code",
      "execution_count": null,
      "metadata": {
        "colab": {
          "base_uri": "https://localhost:8080/"
        },
        "id": "QXBgdH4ajR2F",
        "outputId": "27b4cda6-1586-43a2-a5f9-14bf5148205c"
      },
      "outputs": [
        {
          "name": "stdout",
          "output_type": "stream",
          "text": [
            "[1, 2, 3, 4]\n"
          ]
        }
      ],
      "source": [
        "x = [1, 2, 3]\n",
        "x.append(4)\n",
        "print(x)"
      ]
    },
    {
      "cell_type": "code",
      "execution_count": null,
      "metadata": {
        "colab": {
          "base_uri": "https://localhost:8080/"
        },
        "id": "VL9BoQJmjhI4",
        "outputId": "b13db4b8-b391-4dec-ffae-e22018806a38"
      },
      "outputs": [
        {
          "name": "stdout",
          "output_type": "stream",
          "text": [
            "not two\n"
          ]
        }
      ],
      "source": [
        "y = 2\n",
        "if y != 2:\n",
        "  print('two')\n",
        "else:\n",
        "  print('not two')\n"
      ]
    },
    {
      "cell_type": "code",
      "execution_count": null,
      "metadata": {
        "id": "k-bpDd7Pn-hX"
      },
      "outputs": [],
      "source": [
        "numbers = [3, 7, 11, 15, 19]\n",
        "result = 0\n",
        "for num in numbers:\n",
        "  if num % 3 == 0:\n",
        "    result += num\n",
        "  elif num % 5 == 0:\n",
        "    break\n",
        "    print(result)\n",
        "\n",
        "\n"
      ]
    },
    {
      "cell_type": "code",
      "execution_count": null,
      "metadata": {
        "colab": {
          "base_uri": "https://localhost:8080/"
        },
        "id": "DYaM4GqXo4nA",
        "outputId": "4d205a5e-ba45-4841-9b71-b6c2c61fadda"
      },
      "outputs": [
        {
          "name": "stdout",
          "output_type": "stream",
          "text": [
            "1234"
          ]
        }
      ],
      "source": [
        "for i in range(1,10):\n",
        "  if i == 5:\n",
        "    break\n",
        "  else:\n",
        "    print(i, end='')\n"
      ]
    },
    {
      "cell_type": "code",
      "execution_count": null,
      "metadata": {
        "colab": {
          "base_uri": "https://localhost:8080/"
        },
        "id": "y3mvnOcspsCs",
        "outputId": "4fd39b99-a377-40bf-8465-b1574b986a51"
      },
      "outputs": [
        {
          "name": "stdout",
          "output_type": "stream",
          "text": [
            "[2, 4]\n"
          ]
        }
      ],
      "source": [
        "arr = [1, 2, 3, 4, 5]\n",
        "new = [x for x in arr if x% 2!= 1]\n",
        "print(new)"
      ]
    },
    {
      "cell_type": "code",
      "execution_count": null,
      "metadata": {
        "colab": {
          "base_uri": "https://localhost:8080/"
        },
        "id": "hGKm71Eert29",
        "outputId": "b1cff21f-95c6-4d24-a941-530ef521fc2c"
      },
      "outputs": [
        {
          "name": "stdout",
          "output_type": "stream",
          "text": [
            "H\n"
          ]
        }
      ],
      "source": [
        "print('Hello'[0])"
      ]
    },
    {
      "cell_type": "code",
      "execution_count": null,
      "metadata": {
        "colab": {
          "base_uri": "https://localhost:8080/"
        },
        "id": "KcEpQPvzu-LD",
        "outputId": "51b09f17-c737-4c12-e7d9-5018585cdcfc"
      },
      "outputs": [
        {
          "name": "stdout",
          "output_type": "stream",
          "text": [
            "False\n"
          ]
        }
      ],
      "source": [
        "print(0.1 + 0.2 == 0.3)"
      ]
    },
    {
      "cell_type": "code",
      "execution_count": null,
      "metadata": {
        "colab": {
          "base_uri": "https://localhost:8080/"
        },
        "id": "1ATtQ4UePxL2",
        "outputId": "b611c605-c9a4-4c8f-ff3c-b97927347b20"
      },
      "outputs": [
        {
          "name": "stdout",
          "output_type": "stream",
          "text": [
            "1\n",
            "2\n",
            "3\n",
            "4\n",
            "5\n",
            "6\n",
            "7\n",
            "I'm Okay here\n"
          ]
        }
      ],
      "source": [
        "i = 1\n",
        "while i <= 10:\n",
        "  print(i)\n",
        "  if i == 7:\n",
        "    print('I\\'m Okay here')\n",
        "    break\n",
        "  i += 1\n"
      ]
    },
    {
      "cell_type": "code",
      "execution_count": null,
      "metadata": {
        "colab": {
          "base_uri": "https://localhost:8080/"
        },
        "id": "s_LocNsFRCoC",
        "outputId": "55f2c306-ea82-45e5-827d-cc501be20774"
      },
      "outputs": [
        {
          "name": "stdout",
          "output_type": "stream",
          "text": [
            "M\n",
            "O\n",
            "N\n",
            "D\n",
            "A\n",
            "Y\n"
          ]
        }
      ],
      "source": [
        "#for loops- iterate till the end and stops\n",
        "day = 'MONDAY'\n",
        "for char in day:\n",
        "  print(char)"
      ]
    },
    {
      "cell_type": "code",
      "execution_count": null,
      "metadata": {
        "colab": {
          "base_uri": "https://localhost:8080/"
        },
        "id": "o0FICUMqRYHp",
        "outputId": "d51054bc-72a1-44a9-fecc-f443c6dbf776"
      },
      "outputs": [
        {
          "name": "stdout",
          "output_type": "stream",
          "text": [
            "3 * 1 = 3\n",
            "3 * 2 = 6\n",
            "3 * 3 = 9\n",
            "3 * 4 = 12\n",
            "3 * 5 = 15\n",
            "3 * 6 = 18\n",
            "3 * 7 = 21\n",
            "3 * 8 = 24\n",
            "3 * 9 = 27\n",
            "3 * 10 = 30\n",
            "3 * 11 = 33\n",
            "3 * 12 = 36\n"
          ]
        }
      ],
      "source": [
        "#multiplication table\n",
        "table = 3\n",
        "for i in range(1,13): #in rangle, the last is excludive\n",
        "    print(f'{table} * {i} = {table * i}')"
      ]
    },
    {
      "cell_type": "code",
      "execution_count": null,
      "metadata": {
        "colab": {
          "base_uri": "https://localhost:8080/"
        },
        "id": "WtRYvW_MUbqr",
        "outputId": "9edc32e6-82be-471f-9b1e-d7f132176fcf"
      },
      "outputs": [
        {
          "name": "stdout",
          "output_type": "stream",
          "text": [
            "0 Mon\n",
            "1 Tue\n",
            "2 Wed\n",
            "3 Thur\n",
            "4 Fri\n",
            "5 Sat\n",
            "6 Sun\n"
          ]
        }
      ],
      "source": [
        "#iterating using enumerate\n",
        "weekdays = ['Mon', 'Tue', 'Wed', 'Thur', 'Fri', 'Sat', 'Sun']\n",
        "for index, day in enumerate(weekdays):\n",
        "  print(index, day)"
      ]
    },
    {
      "cell_type": "code",
      "execution_count": null,
      "metadata": {
        "colab": {
          "base_uri": "https://localhost:8080/"
        },
        "id": "E_3F_15BXKFl",
        "outputId": "d91a95b7-c083-48f2-fba3-7747b0381359"
      },
      "outputs": [
        {
          "name": "stdout",
          "output_type": "stream",
          "text": [
            "1 Mon\n",
            "2 Tue\n",
            "3 Wed\n",
            "4 Thur\n",
            "5 Fri\n",
            "6 Sat\n",
            "7 Sun\n"
          ]
        }
      ],
      "source": [
        "#incase not starting with index 0\n",
        "for index, day in enumerate(weekdays, start = 1):\n",
        "  print(index, day)"
      ]
    },
    {
      "cell_type": "markdown",
      "metadata": {
        "id": "TSzCLyzLX94B"
      },
      "source": [
        "Functions"
      ]
    },
    {
      "cell_type": "code",
      "execution_count": null,
      "metadata": {
        "id": "j-lOteY-X_5d"
      },
      "outputs": [],
      "source": [
        "#function is a reusable block of code that performs specific task\n",
        "#syntax of building a function\n",
        "def greet():\n",
        "  print('Hello World') #anywhere greet is called, it will be Hello World\n"
      ]
    },
    {
      "cell_type": "code",
      "execution_count": null,
      "metadata": {
        "colab": {
          "background_save": true
        },
        "id": "R_cVcJ_SYe63",
        "outputId": "adce0c4f-5c7d-4799-8bd7-4ac7a0f64c6d"
      },
      "outputs": [
        {
          "name": "stdout",
          "output_type": "stream",
          "text": [
            "Hello World\n"
          ]
        }
      ],
      "source": [
        "greet()"
      ]
    },
    {
      "cell_type": "code",
      "execution_count": null,
      "metadata": {
        "id": "sU0TE_fjZPkH"
      },
      "outputs": [],
      "source": [
        "# a function to sum two numbers\n",
        "def add(a,b):\n",
        "  print(a + b)"
      ]
    },
    {
      "cell_type": "code",
      "source": [
        "add(22,56)"
      ],
      "metadata": {
        "colab": {
          "base_uri": "https://localhost:8080/"
        },
        "id": "rYoL2rJpNd_m",
        "outputId": "3c79052e-7d86-4cac-ac06-6cba4e49f8a4"
      },
      "execution_count": null,
      "outputs": [
        {
          "output_type": "stream",
          "name": "stdout",
          "text": [
            "78\n"
          ]
        }
      ]
    },
    {
      "cell_type": "code",
      "source": [
        "def power(num, exponent):\n",
        "  return num ** exponent"
      ],
      "metadata": {
        "id": "rf3Y_bmvQTXP"
      },
      "execution_count": null,
      "outputs": []
    },
    {
      "cell_type": "code",
      "source": [
        "power(5,4)"
      ],
      "metadata": {
        "colab": {
          "base_uri": "https://localhost:8080/"
        },
        "id": "pqXxEA9XQga9",
        "outputId": "58ae880d-00f9-4154-b885-d852921b8711"
      },
      "execution_count": null,
      "outputs": [
        {
          "output_type": "execute_result",
          "data": {
            "text/plain": [
              "625"
            ]
          },
          "metadata": {},
          "execution_count": 8
        }
      ]
    },
    {
      "cell_type": "code",
      "source": [
        "def describe_car(make, model, year= 2025):\n",
        "  print(f'This is {year} {make} {model}')"
      ],
      "metadata": {
        "id": "a1lmfvE_Qj3d"
      },
      "execution_count": null,
      "outputs": []
    },
    {
      "cell_type": "code",
      "source": [
        "describe_car('Toyota', 'Camry')"
      ],
      "metadata": {
        "colab": {
          "base_uri": "https://localhost:8080/"
        },
        "id": "tKhpjzM_Q5J-",
        "outputId": "b2ac4978-cbe7-4af0-fc0a-22f7bd892acd"
      },
      "execution_count": null,
      "outputs": [
        {
          "output_type": "stream",
          "name": "stdout",
          "text": [
            "This is 2025 Toyota Camry\n"
          ]
        }
      ]
    },
    {
      "cell_type": "code",
      "source": [
        "#you can change the default\n",
        "describe_car('Toyota', 'Camry', year= 2002)"
      ],
      "metadata": {
        "colab": {
          "base_uri": "https://localhost:8080/"
        },
        "id": "47ow-8QGRC8d",
        "outputId": "46b54e6b-b4f8-494e-ffeb-d0fdd71fbd4e"
      },
      "execution_count": null,
      "outputs": [
        {
          "output_type": "stream",
          "name": "stdout",
          "text": [
            "This is 2002 Toyota Camry\n"
          ]
        }
      ]
    },
    {
      "cell_type": "code",
      "source": [
        "# *args handles many positional argument\n",
        "def total(*numbers):\n",
        "  return sum(numbers)"
      ],
      "metadata": {
        "id": "udJhPIc9RUw1"
      },
      "execution_count": null,
      "outputs": []
    },
    {
      "cell_type": "code",
      "source": [
        "total(3, 6, 8, 9, 12,)"
      ],
      "metadata": {
        "id": "VVQo7bf6RnXF",
        "outputId": "e0ac8485-efd0-45ce-9416-96a31278f194",
        "colab": {
          "base_uri": "https://localhost:8080/"
        }
      },
      "execution_count": null,
      "outputs": [
        {
          "output_type": "execute_result",
          "data": {
            "text/plain": [
              "38"
            ]
          },
          "metadata": {},
          "execution_count": 13
        }
      ]
    },
    {
      "cell_type": "code",
      "source": [
        "total(5,3)"
      ],
      "metadata": {
        "id": "ZCsEQzMgRquc",
        "outputId": "0cda93ee-1d27-48a3-cfe0-1636f7d50261",
        "colab": {
          "base_uri": "https://localhost:8080/"
        }
      },
      "execution_count": null,
      "outputs": [
        {
          "output_type": "execute_result",
          "data": {
            "text/plain": [
              "8"
            ]
          },
          "metadata": {},
          "execution_count": 14
        }
      ]
    }
  ],
  "metadata": {
    "colab": {
      "provenance": [],
      "authorship_tag": "ABX9TyOevzGa2YbbvtyugZAFoxx5",
      "include_colab_link": true
    },
    "kernelspec": {
      "display_name": "Python 3",
      "name": "python3"
    },
    "language_info": {
      "name": "python"
    }
  },
  "nbformat": 4,
  "nbformat_minor": 0
}
