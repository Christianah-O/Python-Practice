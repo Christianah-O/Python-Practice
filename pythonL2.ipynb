{
  "nbformat": 4,
  "nbformat_minor": 0,
  "metadata": {
    "colab": {
      "provenance": [],
      "authorship_tag": "ABX9TyPKJvHu0nEbUk5CuBen9xHK",
      "include_colab_link": true
    },
    "kernelspec": {
      "name": "python3",
      "display_name": "Python 3"
    },
    "language_info": {
      "name": "python"
    }
  },
  "cells": [
    {
      "cell_type": "markdown",
      "metadata": {
        "id": "view-in-github",
        "colab_type": "text"
      },
      "source": [
        "<a href=\"https://colab.research.google.com/github/Christianah-O/Python-Practice/blob/main/PythonL2.ipynb\" target=\"_parent\"><img src=\"https://colab.research.google.com/assets/colab-badge.svg\" alt=\"Open In Colab\"/></a>"
      ]
    },
    {
      "cell_type": "markdown",
      "source": [
        "# Numpy\n",
        "short for numerical python, a fundamental package for specific computing in python.\n",
        "majorly for numbers\n"
      ],
      "metadata": {
        "id": "DoQzu023zTuC"
      }
    },
    {
      "cell_type": "code",
      "source": [
        "pip install numpy"
      ],
      "metadata": {
        "colab": {
          "base_uri": "https://localhost:8080/"
        },
        "id": "0zVGSZU8z1N8",
        "outputId": "a22da076-0548-4381-a528-e7905d33e3d8"
      },
      "execution_count": null,
      "outputs": [
        {
          "output_type": "stream",
          "name": "stdout",
          "text": [
            "Requirement already satisfied: numpy in /usr/local/lib/python3.11/dist-packages (2.0.2)\n"
          ]
        }
      ]
    },
    {
      "cell_type": "code",
      "source": [
        "import numpy as np"
      ],
      "metadata": {
        "id": "1XbY_Pg30MZZ"
      },
      "execution_count": null,
      "outputs": []
    },
    {
      "cell_type": "code",
      "source": [
        "#creatung a 1D(dimension) from list\n",
        "x = [10,20,30,40]\n",
        "arr1 = np.array(x)"
      ],
      "metadata": {
        "id": "KpN6Cr7n0Z03"
      },
      "execution_count": null,
      "outputs": []
    },
    {
      "cell_type": "code",
      "source": [
        "arr1"
      ],
      "metadata": {
        "colab": {
          "base_uri": "https://localhost:8080/"
        },
        "id": "KTk5PZy-0mjj",
        "outputId": "293ae68e-9f8f-4d22-f0d2-b4754c3ff514"
      },
      "execution_count": null,
      "outputs": [
        {
          "output_type": "execute_result",
          "data": {
            "text/plain": [
              "array([10, 20, 30, 40])"
            ]
          },
          "metadata": {},
          "execution_count": 6
        }
      ]
    },
    {
      "cell_type": "code",
      "source": [
        "#2D array\n",
        "arr2 = np.array([[1,2,3],[4,5,6], [11,15,20]])"
      ],
      "metadata": {
        "id": "UR97ySiS0o7W"
      },
      "execution_count": null,
      "outputs": []
    },
    {
      "cell_type": "code",
      "source": [
        " arr2"
      ],
      "metadata": {
        "colab": {
          "base_uri": "https://localhost:8080/"
        },
        "id": "OrAY-QgL1GfF",
        "outputId": "3adc3e4d-cff3-4502-c5a7-54d781191b6e"
      },
      "execution_count": null,
      "outputs": [
        {
          "output_type": "execute_result",
          "data": {
            "text/plain": [
              "array([[ 1,  2,  3],\n",
              "       [ 4,  5,  6],\n",
              "       [11, 15, 20]])"
            ]
          },
          "metadata": {},
          "execution_count": 95
        }
      ]
    },
    {
      "cell_type": "code",
      "source": [
        "#Array attributes\n",
        "arr1.shape\n",
        "\n",
        "#showing num of rows and columns\n"
      ],
      "metadata": {
        "colab": {
          "base_uri": "https://localhost:8080/"
        },
        "id": "efVp8l381Lxo",
        "outputId": "779dfcad-7e90-4317-84fd-ca335c39c387"
      },
      "execution_count": null,
      "outputs": [
        {
          "output_type": "execute_result",
          "data": {
            "text/plain": [
              "(4,)"
            ]
          },
          "metadata": {},
          "execution_count": 13
        }
      ]
    },
    {
      "cell_type": "code",
      "source": [
        "arr2.shape"
      ],
      "metadata": {
        "colab": {
          "base_uri": "https://localhost:8080/"
        },
        "id": "DIY48TTQ1sOn",
        "outputId": "28f17ddf-3d8d-4405-e5fd-355fbb0f48c1"
      },
      "execution_count": null,
      "outputs": [
        {
          "output_type": "execute_result",
          "data": {
            "text/plain": [
              "(3, 3)"
            ]
          },
          "metadata": {},
          "execution_count": 16
        }
      ]
    },
    {
      "cell_type": "code",
      "source": [
        "#size of an array- number of elements present\n",
        "arr2.size"
      ],
      "metadata": {
        "colab": {
          "base_uri": "https://localhost:8080/"
        },
        "id": "Fw5jcYb612Ga",
        "outputId": "1dc4f69a-0cd9-42fc-d710-e16e10dfef0c"
      },
      "execution_count": null,
      "outputs": [
        {
          "output_type": "execute_result",
          "data": {
            "text/plain": [
              "9"
            ]
          },
          "metadata": {},
          "execution_count": 17
        }
      ]
    },
    {
      "cell_type": "code",
      "source": [
        "#checking dimension\n",
        "arr2.ndim"
      ],
      "metadata": {
        "colab": {
          "base_uri": "https://localhost:8080/"
        },
        "id": "2Xdp-ijb1_hN",
        "outputId": "8fd11b0d-4c2b-412e-d233-45270ac0175c"
      },
      "execution_count": null,
      "outputs": [
        {
          "output_type": "execute_result",
          "data": {
            "text/plain": [
              "2"
            ]
          },
          "metadata": {},
          "execution_count": 20
        }
      ]
    },
    {
      "cell_type": "markdown",
      "source": [
        "Basic Operations"
      ],
      "metadata": {
        "id": "l78yyfOi2MU5"
      }
    },
    {
      "cell_type": "code",
      "source": [
        "#adding an array\n",
        "arr1 + 20 #added 20 to every elem"
      ],
      "metadata": {
        "colab": {
          "base_uri": "https://localhost:8080/"
        },
        "id": "ed7W6zzP2Prn",
        "outputId": "440e48f7-a1ae-4adc-912d-5d8b4cbfcc1e"
      },
      "execution_count": null,
      "outputs": [
        {
          "output_type": "execute_result",
          "data": {
            "text/plain": [
              "array([30, 40, 50, 60])"
            ]
          },
          "metadata": {},
          "execution_count": 22
        }
      ]
    },
    {
      "cell_type": "code",
      "source": [
        "y = [15, 18, 20, 30]\n",
        "#y + x will only work as string concatenation\n",
        "#but doesnt solve the problem which is adding element of y and d together\n",
        "y + x"
      ],
      "metadata": {
        "colab": {
          "base_uri": "https://localhost:8080/"
        },
        "id": "7Qd90jsK2v3p",
        "outputId": "d0da7ea2-b76c-42f5-dbb7-acd6786dd9a1"
      },
      "execution_count": null,
      "outputs": [
        {
          "output_type": "execute_result",
          "data": {
            "text/plain": [
              "[15, 18, 20, 30, 10, 20, 30, 40]"
            ]
          },
          "metadata": {},
          "execution_count": 24
        }
      ]
    },
    {
      "cell_type": "code",
      "source": [
        "#instead change y list to array\n",
        "arr3 = np.array(y)"
      ],
      "metadata": {
        "id": "abDkb5uX3LYo"
      },
      "execution_count": null,
      "outputs": []
    },
    {
      "cell_type": "code",
      "source": [
        "arr1 + arr3 #added elements in both arrays\n"
      ],
      "metadata": {
        "colab": {
          "base_uri": "https://localhost:8080/"
        },
        "id": "yAVAllvc3WyT",
        "outputId": "136a8fba-7679-4550-eccf-ca92489b9c6f"
      },
      "execution_count": null,
      "outputs": [
        {
          "output_type": "execute_result",
          "data": {
            "text/plain": [
              "array([25, 38, 50, 70])"
            ]
          },
          "metadata": {},
          "execution_count": 26
        }
      ]
    },
    {
      "cell_type": "code",
      "source": [
        "#row addition\n",
        "arr2 + [1,2,3]"
      ],
      "metadata": {
        "colab": {
          "base_uri": "https://localhost:8080/"
        },
        "id": "8bIy0_nI3m-i",
        "outputId": "8dfd9061-f195-48a6-8fdc-e64eb2e6ec5e"
      },
      "execution_count": null,
      "outputs": [
        {
          "output_type": "execute_result",
          "data": {
            "text/plain": [
              "array([[ 2,  4,  6],\n",
              "       [ 5,  7,  9],\n",
              "       [12, 17, 23]])"
            ]
          },
          "metadata": {},
          "execution_count": 27
        }
      ]
    },
    {
      "cell_type": "markdown",
      "source": [
        "Creating array with built in functions"
      ],
      "metadata": {
        "id": "qVF-25fl35jI"
      }
    },
    {
      "cell_type": "code",
      "source": [
        "#operating 3 by 3 arrays full of 0\n",
        "np.zeros((4,3)) #4rows and 3 columns"
      ],
      "metadata": {
        "colab": {
          "base_uri": "https://localhost:8080/"
        },
        "id": "Eit1wF8q3-Wt",
        "outputId": "06fd9875-3457-4942-c412-b4be35e2b72b"
      },
      "execution_count": null,
      "outputs": [
        {
          "output_type": "execute_result",
          "data": {
            "text/plain": [
              "array([[0., 0., 0.],\n",
              "       [0., 0., 0.],\n",
              "       [0., 0., 0.],\n",
              "       [0., 0., 0.]])"
            ]
          },
          "metadata": {},
          "execution_count": 29
        }
      ]
    },
    {
      "cell_type": "code",
      "source": [
        "#filling with 1\n",
        "np.ones((3,3))"
      ],
      "metadata": {
        "colab": {
          "base_uri": "https://localhost:8080/"
        },
        "id": "OLJ93jyt4Vhw",
        "outputId": "11db689a-ec05-4b1f-8b40-884f4f6bc05c"
      },
      "execution_count": null,
      "outputs": [
        {
          "output_type": "execute_result",
          "data": {
            "text/plain": [
              "array([[1., 1., 1.],\n",
              "       [1., 1., 1.],\n",
              "       [1., 1., 1.]])"
            ]
          },
          "metadata": {},
          "execution_count": 31
        }
      ]
    },
    {
      "cell_type": "markdown",
      "source": [
        "Identity Matrix"
      ],
      "metadata": {
        "id": "MwANKqKY4fAv"
      }
    },
    {
      "cell_type": "code",
      "source": [
        "#the diagonal are 1 but others are 0\n",
        "np.eye(6,6)"
      ],
      "metadata": {
        "colab": {
          "base_uri": "https://localhost:8080/"
        },
        "id": "S7Z_eB4x4icQ",
        "outputId": "4382a8f7-1438-4170-dd6d-12a18b53e7f7"
      },
      "execution_count": null,
      "outputs": [
        {
          "output_type": "execute_result",
          "data": {
            "text/plain": [
              "array([[1., 0., 0., 0., 0., 0.],\n",
              "       [0., 1., 0., 0., 0., 0.],\n",
              "       [0., 0., 1., 0., 0., 0.],\n",
              "       [0., 0., 0., 1., 0., 0.],\n",
              "       [0., 0., 0., 0., 1., 0.],\n",
              "       [0., 0., 0., 0., 0., 1.]])"
            ]
          },
          "metadata": {},
          "execution_count": 36
        }
      ]
    },
    {
      "cell_type": "markdown",
      "source": [
        "Creating arrays using random functions"
      ],
      "metadata": {
        "id": "YkGzjS7y5FiM"
      }
    },
    {
      "cell_type": "code",
      "source": [
        "#np.random.random() are used for normal distribution\n",
        "#only work for size of elements\n",
        "np.random.random(3) #gives out random 3 elements or number inputted in function"
      ],
      "metadata": {
        "id": "kJ5iUh9_5JpD",
        "colab": {
          "base_uri": "https://localhost:8080/"
        },
        "outputId": "ffed1344-7517-4ffd-b581-de470447d01a"
      },
      "execution_count": null,
      "outputs": [
        {
          "output_type": "execute_result",
          "data": {
            "text/plain": [
              "array([0.36487282, 0.34333244, 0.18742198])"
            ]
          },
          "metadata": {},
          "execution_count": 37
        }
      ]
    },
    {
      "cell_type": "code",
      "source": [
        "#np.random.rand()- uniform distribution\n",
        "#for random values in a given shape\n",
        "#generates number for shape\n",
        "np.random.rand(5,2)"
      ],
      "metadata": {
        "colab": {
          "base_uri": "https://localhost:8080/"
        },
        "id": "tiLI2FZB50_7",
        "outputId": "89b8094b-1e10-41c0-a58b-89b83b8a0d49"
      },
      "execution_count": null,
      "outputs": [
        {
          "output_type": "execute_result",
          "data": {
            "text/plain": [
              "array([[0.15736258, 0.0623169 ],\n",
              "       [0.38860278, 0.29810267],\n",
              "       [0.2270552 , 0.74662471],\n",
              "       [0.97638025, 0.85807953],\n",
              "       [0.43454422, 0.8662201 ]])"
            ]
          },
          "metadata": {},
          "execution_count": 39
        }
      ]
    },
    {
      "cell_type": "code",
      "source": [
        "#np.random.randint() to generate whole number & gives random number\n",
        "np.random.randint(1,18) #the more you run it, it keeps giving random num"
      ],
      "metadata": {
        "colab": {
          "base_uri": "https://localhost:8080/"
        },
        "id": "mamwiv156V__",
        "outputId": "3caea95c-2c2e-4f05-caee-c8dff43306dc"
      },
      "execution_count": null,
      "outputs": [
        {
          "output_type": "execute_result",
          "data": {
            "text/plain": [
              "15"
            ]
          },
          "metadata": {},
          "execution_count": 55
        }
      ]
    },
    {
      "cell_type": "code",
      "source": [
        "np.random.randint(1,10,(3,5))"
      ],
      "metadata": {
        "colab": {
          "base_uri": "https://localhost:8080/"
        },
        "id": "nlBllYl177t7",
        "outputId": "d902166d-1c65-44bf-a1f0-264f25b03e51"
      },
      "execution_count": null,
      "outputs": [
        {
          "output_type": "execute_result",
          "data": {
            "text/plain": [
              "array([[7, 2, 7, 4, 7],\n",
              "       [9, 2, 8, 8, 2],\n",
              "       [9, 8, 4, 9, 5]])"
            ]
          },
          "metadata": {},
          "execution_count": 61
        }
      ]
    },
    {
      "cell_type": "markdown",
      "source": [
        "Seed Reproducibility"
      ],
      "metadata": {
        "id": "RwoB86HK7MwI"
      }
    },
    {
      "cell_type": "code",
      "source": [
        "#to solve issue of reproducibility\n",
        "#meaning you want it to give same random numbers if code run by another person\n",
        "np.random.seed(22) #seed can be set to anything, but must be same with the other that is running same code\n",
        "np.random.randint(1,100,(4,6)) #(1,100)-range of numbers and (4,6)-rows and columns"
      ],
      "metadata": {
        "colab": {
          "base_uri": "https://localhost:8080/"
        },
        "id": "IOL6K9jA7Qkw",
        "outputId": "4a1c2cc6-a2d5-4dac-d800-987a71ef1970"
      },
      "execution_count": null,
      "outputs": [
        {
          "output_type": "execute_result",
          "data": {
            "text/plain": [
              "array([[ 5, 45, 65, 85,  9, 96],\n",
              "       [94, 19, 15, 46, 89, 94],\n",
              "       [40, 35, 42,  9, 41,  6],\n",
              "       [28, 85, 35, 30, 83, 82]])"
            ]
          },
          "metadata": {},
          "execution_count": 73
        }
      ]
    },
    {
      "cell_type": "markdown",
      "source": [
        "Array Indexing & Slicing"
      ],
      "metadata": {
        "id": "iM2E-oQP9uPN"
      }
    },
    {
      "cell_type": "code",
      "source": [
        "arr1"
      ],
      "metadata": {
        "colab": {
          "base_uri": "https://localhost:8080/"
        },
        "id": "WKSJR59b90ir",
        "outputId": "041ba9e5-c844-41f8-86ff-29949aa54a60"
      },
      "execution_count": null,
      "outputs": [
        {
          "output_type": "execute_result",
          "data": {
            "text/plain": [
              "array([10, 20, 30, 40])"
            ]
          },
          "metadata": {},
          "execution_count": 74
        }
      ]
    },
    {
      "cell_type": "code",
      "source": [
        "arr1[1]"
      ],
      "metadata": {
        "id": "-Xup2jNb97gU",
        "outputId": "5e6ac974-a9f7-4529-d5eb-f0b5ee6a60c0",
        "colab": {
          "base_uri": "https://localhost:8080/"
        }
      },
      "execution_count": null,
      "outputs": [
        {
          "output_type": "execute_result",
          "data": {
            "text/plain": [
              "np.int64(20)"
            ]
          },
          "metadata": {},
          "execution_count": 75
        }
      ]
    },
    {
      "cell_type": "code",
      "source": [
        "#you can index range of numbers\n",
        "arr2"
      ],
      "metadata": {
        "id": "fvg80dWS-B7j",
        "colab": {
          "base_uri": "https://localhost:8080/"
        },
        "outputId": "ea304383-c567-4ee7-f650-8151ee67a427"
      },
      "execution_count": null,
      "outputs": [
        {
          "output_type": "execute_result",
          "data": {
            "text/plain": [
              "array([[ 1,  2,  3],\n",
              "       [ 4,  5,  6],\n",
              "       [11, 15, 20]])"
            ]
          },
          "metadata": {},
          "execution_count": 96
        }
      ]
    },
    {
      "cell_type": "code",
      "source": [
        "arr2[2] #row index 2"
      ],
      "metadata": {
        "colab": {
          "base_uri": "https://localhost:8080/"
        },
        "id": "RqHAvNxC_XJE",
        "outputId": "13edb457-8168-4ab3-d9c1-e5b950939c83"
      },
      "execution_count": null,
      "outputs": [
        {
          "output_type": "execute_result",
          "data": {
            "text/plain": [
              "array([11, 15, 20])"
            ]
          },
          "metadata": {},
          "execution_count": 77
        }
      ]
    },
    {
      "cell_type": "code",
      "source": [
        "#extract a value\n",
        "#lets extract 2 in arr2\n",
        "arr2[0,1] #row 0 and column 1"
      ],
      "metadata": {
        "colab": {
          "base_uri": "https://localhost:8080/"
        },
        "id": "a-badZok_dPS",
        "outputId": "78b43fab-35bb-434b-bd6a-7726a888f194"
      },
      "execution_count": null,
      "outputs": [
        {
          "output_type": "execute_result",
          "data": {
            "text/plain": [
              "np.int64(2)"
            ]
          },
          "metadata": {},
          "execution_count": 78
        }
      ]
    },
    {
      "cell_type": "code",
      "source": [
        "arr2[1,2] #extract 6"
      ],
      "metadata": {
        "colab": {
          "base_uri": "https://localhost:8080/"
        },
        "id": "ZYBlXDfb_zRU",
        "outputId": "aef2ef53-b88a-4d38-c383-4b7afb773066"
      },
      "execution_count": null,
      "outputs": [
        {
          "output_type": "execute_result",
          "data": {
            "text/plain": [
              "np.int64(6)"
            ]
          },
          "metadata": {},
          "execution_count": 79
        }
      ]
    },
    {
      "cell_type": "code",
      "source": [
        "#extracting all the rows in a column\n",
        "arr2[:,2] #all rows in column index 2"
      ],
      "metadata": {
        "colab": {
          "base_uri": "https://localhost:8080/"
        },
        "id": "ov9hO40oAPPZ",
        "outputId": "f4337fd8-1c34-448c-d756-d4328cf60b7e"
      },
      "execution_count": null,
      "outputs": [
        {
          "output_type": "execute_result",
          "data": {
            "text/plain": [
              "array([ 3,  6, 20])"
            ]
          },
          "metadata": {},
          "execution_count": 80
        }
      ]
    },
    {
      "cell_type": "code",
      "source": [
        "arr2[:,1] #all rows in column index 1"
      ],
      "metadata": {
        "colab": {
          "base_uri": "https://localhost:8080/"
        },
        "id": "3PPw49xEAZnh",
        "outputId": "effe3993-560d-4327-b793-e1f4fadce109"
      },
      "execution_count": null,
      "outputs": [
        {
          "output_type": "execute_result",
          "data": {
            "text/plain": [
              "array([ 2,  5, 15])"
            ]
          },
          "metadata": {},
          "execution_count": 81
        }
      ]
    },
    {
      "cell_type": "code",
      "source": [
        "arr2[2,:] #all columns in row index 2"
      ],
      "metadata": {
        "colab": {
          "base_uri": "https://localhost:8080/"
        },
        "id": "0YsNh3S5AwbE",
        "outputId": "9b3b1427-7ee3-4561-a363-14ac4c3ed3cf"
      },
      "execution_count": null,
      "outputs": [
        {
          "output_type": "execute_result",
          "data": {
            "text/plain": [
              "array([11, 15, 20])"
            ]
          },
          "metadata": {},
          "execution_count": 82
        }
      ]
    },
    {
      "cell_type": "code",
      "source": [
        "#slicing\n",
        "#lets extract 1,2,4,5 in arr2\n",
        "arr2[0:2,0:2] #extract row index 0-2(last is exclusive)\n",
        "#extract column index 0-2(last exclusive as well)"
      ],
      "metadata": {
        "colab": {
          "base_uri": "https://localhost:8080/"
        },
        "id": "mbU1DsWXBaMY",
        "outputId": "db56d7f9-7d1a-4861-be9f-9086f27c5e91"
      },
      "execution_count": null,
      "outputs": [
        {
          "output_type": "execute_result",
          "data": {
            "text/plain": [
              "array([[1, 2],\n",
              "       [4, 5]])"
            ]
          },
          "metadata": {},
          "execution_count": 83
        }
      ]
    },
    {
      "cell_type": "code",
      "source": [
        "arr2[1:3,1:3]"
      ],
      "metadata": {
        "colab": {
          "base_uri": "https://localhost:8080/"
        },
        "id": "FtiLY5WLB6z4",
        "outputId": "990874e9-3049-41fd-9ce3-0c5906b7b4ad"
      },
      "execution_count": null,
      "outputs": [
        {
          "output_type": "execute_result",
          "data": {
            "text/plain": [
              "array([[ 5,  6],\n",
              "       [15, 20]])"
            ]
          },
          "metadata": {},
          "execution_count": 86
        }
      ]
    },
    {
      "cell_type": "code",
      "source": [
        "#modify\n",
        "#lets change 20 to 30 in arr1\n",
        "arr1[1] = 30 #1 is index of 20"
      ],
      "metadata": {
        "id": "1bOar3GeDBER"
      },
      "execution_count": null,
      "outputs": []
    },
    {
      "cell_type": "code",
      "source": [
        "arr1"
      ],
      "metadata": {
        "colab": {
          "base_uri": "https://localhost:8080/"
        },
        "id": "-JV7p1BtDqGR",
        "outputId": "28806524-9432-4743-f412-5d8aa2e6d23b"
      },
      "execution_count": null,
      "outputs": [
        {
          "output_type": "execute_result",
          "data": {
            "text/plain": [
              "array([10, 30, 30, 40])"
            ]
          },
          "metadata": {},
          "execution_count": 97
        }
      ]
    },
    {
      "cell_type": "code",
      "source": [
        "#array manipulation\n",
        "xx= np.random.randint(1,11,10)"
      ],
      "metadata": {
        "id": "ZNTnfTpqJGr4"
      },
      "execution_count": null,
      "outputs": []
    },
    {
      "cell_type": "code",
      "source": [
        "xx"
      ],
      "metadata": {
        "colab": {
          "base_uri": "https://localhost:8080/"
        },
        "id": "Pq46hgxqJYRS",
        "outputId": "97b73bb8-66ad-488b-f2f7-b5bc8cef97b0"
      },
      "execution_count": null,
      "outputs": [
        {
          "output_type": "execute_result",
          "data": {
            "text/plain": [
              "array([ 6,  6, 10, 10,  5,  2,  5,  4,  4,  5])"
            ]
          },
          "metadata": {},
          "execution_count": 102
        }
      ]
    },
    {
      "cell_type": "code",
      "source": [
        "#reshaping- make it rows & columns\n",
        "res = xx.reshape(2,5)"
      ],
      "metadata": {
        "id": "RZ7XOuTAJiQN"
      },
      "execution_count": null,
      "outputs": []
    },
    {
      "cell_type": "code",
      "source": [
        "res"
      ],
      "metadata": {
        "colab": {
          "base_uri": "https://localhost:8080/"
        },
        "id": "W0qM2avRJ4Sp",
        "outputId": "66f359a1-d27d-46b2-f0ef-f7f09c9511db"
      },
      "execution_count": null,
      "outputs": [
        {
          "output_type": "execute_result",
          "data": {
            "text/plain": [
              "array([[ 6,  6, 10, 10,  5],\n",
              "       [ 2,  5,  4,  4,  5]])"
            ]
          },
          "metadata": {},
          "execution_count": 105
        }
      ]
    },
    {
      "cell_type": "code",
      "source": [
        "#transpose\n",
        "res.T"
      ],
      "metadata": {
        "colab": {
          "base_uri": "https://localhost:8080/"
        },
        "id": "lP4LfkLQKXYD",
        "outputId": "4c6d81ec-dd00-4125-f94c-776aea753a0f"
      },
      "execution_count": null,
      "outputs": [
        {
          "output_type": "execute_result",
          "data": {
            "text/plain": [
              "array([[ 6,  2],\n",
              "       [ 6,  5],\n",
              "       [10,  4],\n",
              "       [10,  4],\n",
              "       [ 5,  5]])"
            ]
          },
          "metadata": {},
          "execution_count": 108
        }
      ]
    },
    {
      "cell_type": "code",
      "source": [
        "#flatten- remove shape, no row or colums\n",
        "flat = res.flatten()"
      ],
      "metadata": {
        "id": "Zzkt4umoKy3_"
      },
      "execution_count": null,
      "outputs": []
    },
    {
      "cell_type": "code",
      "source": [
        "flat"
      ],
      "metadata": {
        "colab": {
          "base_uri": "https://localhost:8080/"
        },
        "id": "ANwctTb1Ltm4",
        "outputId": "83e36e8b-4ef0-4e3e-83d4-7244c363e397"
      },
      "execution_count": null,
      "outputs": [
        {
          "output_type": "execute_result",
          "data": {
            "text/plain": [
              "array([ 6,  6, 10, 10,  5,  2,  5,  4,  4,  5])"
            ]
          },
          "metadata": {},
          "execution_count": 112
        }
      ]
    },
    {
      "cell_type": "code",
      "source": [
        "#split value\n",
        "sp = np.split(flat,2)"
      ],
      "metadata": {
        "id": "d1IDsh2RLyCJ"
      },
      "execution_count": null,
      "outputs": []
    },
    {
      "cell_type": "code",
      "source": [
        "a,b = sp"
      ],
      "metadata": {
        "id": "jtEvl-6HMAD8"
      },
      "execution_count": null,
      "outputs": []
    },
    {
      "cell_type": "code",
      "source": [
        "a"
      ],
      "metadata": {
        "colab": {
          "base_uri": "https://localhost:8080/"
        },
        "id": "V2CgZi3MMZI_",
        "outputId": "8d8af7ea-4b78-4501-dbdf-af58057ddc8f"
      },
      "execution_count": null,
      "outputs": [
        {
          "output_type": "execute_result",
          "data": {
            "text/plain": [
              "array([ 6,  6, 10, 10,  5])"
            ]
          },
          "metadata": {},
          "execution_count": 119
        }
      ]
    },
    {
      "cell_type": "code",
      "source": [
        "b"
      ],
      "metadata": {
        "colab": {
          "base_uri": "https://localhost:8080/"
        },
        "id": "Sx9-A8fDMah4",
        "outputId": "8f2e82bd-d0c3-4a29-f130-76c09f386f7c"
      },
      "execution_count": null,
      "outputs": [
        {
          "output_type": "execute_result",
          "data": {
            "text/plain": [
              "array([2, 5, 4, 4, 5])"
            ]
          },
          "metadata": {},
          "execution_count": 120
        }
      ]
    },
    {
      "cell_type": "code",
      "source": [
        "spp = np.split(flat,5)"
      ],
      "metadata": {
        "id": "g3mru63tMbll"
      },
      "execution_count": null,
      "outputs": []
    },
    {
      "cell_type": "code",
      "source": [
        "a,b,c,d,e = spp"
      ],
      "metadata": {
        "id": "-2ZhObZ9Mi57"
      },
      "execution_count": null,
      "outputs": []
    },
    {
      "cell_type": "code",
      "source": [
        "c"
      ],
      "metadata": {
        "colab": {
          "base_uri": "https://localhost:8080/"
        },
        "id": "-o7cdkxZMmFm",
        "outputId": "de3394fe-d01a-4bb4-d17b-616de9ba1bce"
      },
      "execution_count": null,
      "outputs": [
        {
          "output_type": "execute_result",
          "data": {
            "text/plain": [
              "array([5, 2])"
            ]
          },
          "metadata": {},
          "execution_count": 123
        }
      ]
    },
    {
      "cell_type": "code",
      "source": [
        "e"
      ],
      "metadata": {
        "colab": {
          "base_uri": "https://localhost:8080/"
        },
        "id": "qtk2bqPFMnlP",
        "outputId": "db9361c6-3b69-4c4e-b411-3b7e7bfe7173"
      },
      "execution_count": null,
      "outputs": [
        {
          "output_type": "execute_result",
          "data": {
            "text/plain": [
              "array([4, 5])"
            ]
          },
          "metadata": {},
          "execution_count": 124
        }
      ]
    },
    {
      "cell_type": "markdown",
      "source": [
        "Mathematical Operation"
      ],
      "metadata": {
        "id": "6jypNJnrM7uG"
      }
    },
    {
      "cell_type": "code",
      "source": [
        "values = np.array([1,4,9,16,25])"
      ],
      "metadata": {
        "id": "E6d_FkhTM5mg"
      },
      "execution_count": null,
      "outputs": []
    },
    {
      "cell_type": "code",
      "source": [
        "np.sqrt(values)"
      ],
      "metadata": {
        "colab": {
          "base_uri": "https://localhost:8080/"
        },
        "id": "E6e7tb62NJgT",
        "outputId": "c0acb863-61a3-4851-d588-1e058f2307b8"
      },
      "execution_count": null,
      "outputs": [
        {
          "output_type": "execute_result",
          "data": {
            "text/plain": [
              "array([1., 2., 3., 4., 5.])"
            ]
          },
          "metadata": {},
          "execution_count": 132
        }
      ]
    },
    {
      "cell_type": "code",
      "source": [
        "#sum\n",
        "values.sum()"
      ],
      "metadata": {
        "colab": {
          "base_uri": "https://localhost:8080/"
        },
        "id": "XvrBWjU8NObX",
        "outputId": "7b65b7e9-bc30-41a2-9c0d-c3b12cb00865"
      },
      "execution_count": null,
      "outputs": [
        {
          "output_type": "execute_result",
          "data": {
            "text/plain": [
              "np.int64(55)"
            ]
          },
          "metadata": {},
          "execution_count": 133
        }
      ]
    }
  ]
}
