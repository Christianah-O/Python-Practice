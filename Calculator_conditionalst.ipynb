{
  "cells": [
    {
      "cell_type": "markdown",
      "metadata": {
        "id": "view-in-github",
        "colab_type": "text"
      },
      "source": [
        "<a href=\"https://colab.research.google.com/github/Christianah-O/Python-Practice/blob/main/Calculator_conditionalst.ipynb\" target=\"_parent\"><img src=\"https://colab.research.google.com/assets/colab-badge.svg\" alt=\"Open In Colab\"/></a>"
      ]
    },
    {
      "cell_type": "code",
      "source": [
        "def calculator(opt, num1, num2):\n",
        "  if opt == 1:\n",
        "    print(f'{num1} + {num2} = {num1 + num2}') #additiom\n",
        "  elif opt == 2:\n",
        "    print(f'{num1} - {num2} = {num1 - num2}') #subtraction\n",
        "  elif opt == 3:\n",
        "    print(f'{num1} * {num2} = {num1 * num2}') #multiplication\n",
        "  elif opt == 4:\n",
        "    print(f'{num1} // {num2} = {num1 // num2}') #modulus\n",
        "  elif opt == 5:\n",
        "    if num2 != 0: #not equal to 0\n",
        "      print(f'{num1} / {num2} = {num1 / num2}') #division\n",
        "    else:\n",
        "        print('Error: Division by 0 is impossible')\n",
        "  elif opt == 8: #ending calcultor\n",
        "    print('Existing calculator')\n",
        "  else:\n",
        "    print('Inavlid')\n",
        "\n",
        "## option 1-5 defines the mathematical operations need to perform.\n"
      ],
      "metadata": {
        "id": "Q2p1yW6E_Xyh"
      },
      "execution_count": null,
      "outputs": []
    },
    {
      "cell_type": "code",
      "source": [
        "calculator(2, 56,29)"
      ],
      "metadata": {
        "colab": {
          "base_uri": "https://localhost:8080/"
        },
        "id": "QpMsYsC59Pja",
        "outputId": "107506b0-6ec2-416b-b4e3-3fea2a51a465"
      },
      "execution_count": null,
      "outputs": [
        {
          "output_type": "stream",
          "name": "stdout",
          "text": [
            "56 - 29 = 27\n"
          ]
        }
      ]
    },
    {
      "cell_type": "markdown",
      "source": [],
      "metadata": {
        "id": "FrlK6pUu-yyg"
      }
    },
    {
      "cell_type": "code",
      "source": [
        "calculator(1, 10, 6)"
      ],
      "metadata": {
        "colab": {
          "base_uri": "https://localhost:8080/"
        },
        "id": "pXAXtngw8vu9",
        "outputId": "4739e3e4-e85a-417c-b246-8a3d390e2e7c"
      },
      "execution_count": null,
      "outputs": [
        {
          "output_type": "stream",
          "name": "stdout",
          "text": [
            "10 + 6 = 16\n"
          ]
        }
      ]
    },
    {
      "cell_type": "code",
      "source": [
        "calculator(3, 8,16)"
      ],
      "metadata": {
        "colab": {
          "base_uri": "https://localhost:8080/"
        },
        "id": "YnugJJAl9bRp",
        "outputId": "1230549a-8e36-4b05-c4a4-b4ea8ade6ba8"
      },
      "execution_count": null,
      "outputs": [
        {
          "output_type": "stream",
          "name": "stdout",
          "text": [
            "8 * 16 = 128\n"
          ]
        }
      ]
    },
    {
      "cell_type": "code",
      "source": [
        "calculator(4, 25,3)"
      ],
      "metadata": {
        "colab": {
          "base_uri": "https://localhost:8080/"
        },
        "id": "cLoQO2TH9iis",
        "outputId": "279ec857-d145-4eee-c4e4-84e5575001bd"
      },
      "execution_count": null,
      "outputs": [
        {
          "output_type": "stream",
          "name": "stdout",
          "text": [
            "25 // 3 = 8\n"
          ]
        }
      ]
    },
    {
      "cell_type": "code",
      "source": [
        "calculator(5,682,4)"
      ],
      "metadata": {
        "colab": {
          "base_uri": "https://localhost:8080/"
        },
        "id": "jwzqwtvC-Ou2",
        "outputId": "5dfa3c3f-9e33-4c09-f6a6-b94be3c4a94d"
      },
      "execution_count": null,
      "outputs": [
        {
          "output_type": "stream",
          "name": "stdout",
          "text": [
            "682 / 4 = 170.5\n"
          ]
        }
      ]
    },
    {
      "cell_type": "code",
      "source": [
        "calculator(5,8,0)"
      ],
      "metadata": {
        "colab": {
          "base_uri": "https://localhost:8080/"
        },
        "id": "4gn8fbBm-ZQF",
        "outputId": "4ba9c538-e675-4437-bc6f-956b5a6f5e0f"
      },
      "execution_count": null,
      "outputs": [
        {
          "output_type": "stream",
          "name": "stdout",
          "text": [
            "Error: Division by 0 is impossible\n"
          ]
        }
      ]
    },
    {
      "cell_type": "code",
      "source": [
        "calculator(7,2,6)"
      ],
      "metadata": {
        "colab": {
          "base_uri": "https://localhost:8080/"
        },
        "id": "5zQqpuHb-deY",
        "outputId": "a37f3dcc-efb2-4420-809a-f54351fc7a6c"
      },
      "execution_count": null,
      "outputs": [
        {
          "output_type": "stream",
          "name": "stdout",
          "text": [
            "Inavlid\n"
          ]
        }
      ]
    }
  ],
  "metadata": {
    "colab": {
      "provenance": [],
      "authorship_tag": "ABX9TyPb74+g+PjU6751OOwdGLe0",
      "include_colab_link": true
    },
    "kernelspec": {
      "display_name": "Python 3",
      "name": "python3"
    },
    "language_info": {
      "name": "python"
    }
  },
  "nbformat": 4,
  "nbformat_minor": 0
}