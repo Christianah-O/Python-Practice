{
  "nbformat": 4,
  "nbformat_minor": 0,
  "metadata": {
    "colab": {
      "provenance": [],
      "authorship_tag": "ABX9TyNW1tx8LY2F+d/Bch2K/mga",
      "include_colab_link": true
    },
    "kernelspec": {
      "name": "python3",
      "display_name": "Python 3"
    },
    "language_info": {
      "name": "python"
    }
  },
  "cells": [
    {
      "cell_type": "markdown",
      "metadata": {
        "id": "view-in-github",
        "colab_type": "text"
      },
      "source": [
        "<a href=\"https://colab.research.google.com/github/Christianah-O/Python-Practice/blob/main/Calculator_withloop.ipynb\" target=\"_parent\"><img src=\"https://colab.research.google.com/assets/colab-badge.svg\" alt=\"Open In Colab\"/></a>"
      ]
    },
    {
      "cell_type": "markdown",
      "source": [
        "Loop-based calculator with fixed test cases"
      ],
      "metadata": {
        "id": "4_HwitQxOZJp"
      }
    },
    {
      "cell_type": "code",
      "source": [
        "def calculator(opt, num1, num2):\n",
        "  if opt == 1:\n",
        "    print(f'{num1} + {num2} = {num1 + num2}') #additiom\n",
        "  elif opt == 2:\n",
        "    print(f'{num1} - {num2} = {num1 - num2}') #subtraction\n",
        "  elif opt == 3:\n",
        "    print(f'{num1} * {num2} = {num1 * num2}') #multiplication\n",
        "  elif opt == 4:\n",
        "    print(f'{num1} // {num2} = {num1 // num2}') #interger division\n",
        "  elif opt == 5:\n",
        "    if num2 != 0: #not equal to 0\n",
        "      print(f'{num1} / {num2} = {num1 / num2}') #division\n",
        "    else:\n",
        "        print('Error: Division by 0 is impossible')\n",
        "  elif opt == 8:\n",
        "      print('Existing Calculator...')\n",
        "  else:\n",
        "      print('Inavlid')\n",
        "\n",
        "test_cases = [\n",
        "        (1, 15, 29),\n",
        "        (2, 87, 20),\n",
        "        (3, 13, 4),\n",
        "        (4, 68, 4),\n",
        "        (5, 862, 4),\n",
        "        (5, 24, 0),\n",
        "        (8, 0, 0)\n",
        "    ]\n",
        "\n",
        "for opt,num1,num2 in test_cases:\n",
        "      calculator(opt, num1, num2)\n",
        "      if opt == 8:\n",
        "        break\n",
        "\n",
        "\n",
        "## option 1-5 defines the mathematical operations need to perform.\n"
      ],
      "metadata": {
        "id": "mMiWy9ss4sTZ",
        "colab": {
          "base_uri": "https://localhost:8080/"
        },
        "outputId": "8f1ab52c-f293-4c69-c6b5-2eb0a1176a4a"
      },
      "execution_count": 1,
      "outputs": [
        {
          "output_type": "stream",
          "name": "stdout",
          "text": [
            "15 + 29 = 44\n",
            "87 - 20 = 67\n",
            "13 * 4 = 52\n",
            "68 // 4 = 17\n",
            "862 / 4 = 215.5\n",
            "Error: Division by 0 is impossible\n",
            "Existing Calculator...\n"
          ]
        }
      ]
    }
  ]
}
